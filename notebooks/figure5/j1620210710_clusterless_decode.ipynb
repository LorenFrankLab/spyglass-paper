{
 "cells": [
  {
   "cell_type": "code",
   "execution_count": 1,
   "metadata": {},
   "outputs": [],
   "source": [
    "import warnings\n",
    "import numpy as np\n",
    "import matplotlib.pyplot as plt\n",
    "import paper_plotting\n",
    "\n",
    "\n",
    "paper_plotting.set_figure_defaults()\n",
    "warnings.filterwarnings(\"ignore\")"
   ]
  },
  {
   "cell_type": "code",
   "execution_count": 2,
   "metadata": {},
   "outputs": [],
   "source": [
    "nwb_copy_file_name = \"j1620210710_.nwb\"\n",
    "interval_list_name = \"runs_noPrePostTrialTimes raw data valid times\""
   ]
  },
  {
   "cell_type": "code",
   "execution_count": 3,
   "metadata": {},
   "outputs": [
    {
     "name": "stderr",
     "output_type": "stream",
     "text": [
      "[2024-02-08 13:49:14,998][INFO]: Connecting edeno@lmf-db.cin.ucsf.edu:3306\n",
      "[2024-02-08 13:49:15,037][INFO]: Connected edeno@lmf-db.cin.ucsf.edu:3306\n"
     ]
    }
   ],
   "source": [
    "import spyglass.spikesorting.v1 as sgs\n",
    "\n",
    "sgs.SortGroup.set_group_by_shank(nwb_file_name=nwb_copy_file_name)"
   ]
  },
  {
   "cell_type": "code",
   "execution_count": 4,
   "metadata": {},
   "outputs": [
    {
     "data": {
      "text/plain": [
       "nwb_file_name     sort_group_id\n",
       "j1620210710_.nwb  0                   hippocampus\n",
       "                  1                   hippocampus\n",
       "                  2                CorpusCallosum\n",
       "                  3                   hippocampus\n",
       "                  4                   hippocampus\n",
       "                  5                   hippocampus\n",
       "                  6                   hippocampus\n",
       "                  7                   hippocampus\n",
       "                  8                   hippocampus\n",
       "                  9                   hippocampus\n",
       "                  10                  hippocampus\n",
       "                  11                  hippocampus\n",
       "                  12               CorpusCallosum\n",
       "                  13                  hippocampus\n",
       "                  14                  hippocampus\n",
       "                  15                  hippocampus\n",
       "                  16                  hippocampus\n",
       "                  17                  hippocampus\n",
       "                  18                  hippocampus\n",
       "                  19                  hippocampus\n",
       "                  20                  hippocampus\n",
       "                  21                  hippocampus\n",
       "                  22                  hippocampus\n",
       "                  23                  hippocampus\n",
       "                  24                       cortex\n",
       "                  25                       cortex\n",
       "                  26                       cortex\n",
       "                  27                       cortex\n",
       "                  28                       cortex\n",
       "                  29                       cortex\n",
       "                  30                       cortex\n",
       "                  31                       cortex\n",
       "Name: region_name, dtype: object"
      ]
     },
     "execution_count": 4,
     "metadata": {},
     "output_type": "execute_result"
    }
   ],
   "source": [
    "import pandas as pd\n",
    "\n",
    "import spyglass.common as sgc\n",
    "\n",
    "query = (\n",
    "    (sgs.SortGroup.SortGroupElectrode & {\"nwb_file_name\": nwb_copy_file_name})\n",
    "    * sgc.Electrode\n",
    "    * sgc.BrainRegion\n",
    ")\n",
    "\n",
    "sort_group_to_brain_region = (\n",
    "    pd.DataFrame(query)\n",
    "    .groupby([\"nwb_file_name\", \"sort_group_id\"])\n",
    "    .region_name.unique()\n",
    ").apply(lambda x: x[0])\n",
    "\n",
    "sort_group_to_brain_region"
   ]
  },
  {
   "cell_type": "code",
   "execution_count": 5,
   "metadata": {},
   "outputs": [
    {
     "data": {
      "text/plain": [
       "array([ 0,  1,  3,  4,  5,  6,  7,  8,  9, 10, 11, 13, 14, 15, 16, 17, 18,\n",
       "       19, 20, 21, 22, 23])"
      ]
     },
     "execution_count": 5,
     "metadata": {},
     "output_type": "execute_result"
    }
   ],
   "source": [
    "ca1_sort_group_ids = (\n",
    "    sort_group_to_brain_region.loc[sort_group_to_brain_region == \"hippocampus\"]\n",
    "    .index.get_level_values(\"sort_group_id\")\n",
    "    .to_numpy()\n",
    ")\n",
    "\n",
    "ca1_sort_group_ids"
   ]
  },
  {
   "cell_type": "code",
   "execution_count": 6,
   "metadata": {},
   "outputs": [],
   "source": [
    "import spyglass.spikesorting.v1 as sgs\n",
    "\n",
    "sgs.SpikeSortingPreprocessingParameters().insert1(\n",
    "    {\n",
    "        \"preproc_param_name\": \"franklab_tetrode_hippocampus\",\n",
    "        \"preproc_params\": {\n",
    "            \"frequency_min\": 600,\n",
    "            \"frequency_max\": 6000,\n",
    "            \"margin_ms\": 5,\n",
    "            \"seed\": 0,\n",
    "            \"min_segment_length\": 0.0015,\n",
    "        },\n",
    "    },\n",
    "    skip_duplicates=True,\n",
    ")"
   ]
  },
  {
   "cell_type": "code",
   "execution_count": 7,
   "metadata": {},
   "outputs": [
    {
     "name": "stderr",
     "output_type": "stream",
     "text": [
      "[13:49:17][WARNING] Spyglass: Similar row(s) already inserted.\n",
      "[13:49:17][WARNING] Spyglass: Similar row(s) already inserted.\n",
      "[13:49:17][WARNING] Spyglass: Similar row(s) already inserted.\n",
      "[13:49:17][WARNING] Spyglass: Similar row(s) already inserted.\n",
      "[13:49:17][WARNING] Spyglass: Similar row(s) already inserted.\n",
      "[13:49:17][WARNING] Spyglass: Similar row(s) already inserted.\n",
      "[13:49:17][WARNING] Spyglass: Similar row(s) already inserted.\n",
      "[13:49:17][WARNING] Spyglass: Similar row(s) already inserted.\n",
      "[13:49:17][WARNING] Spyglass: Similar row(s) already inserted.\n",
      "[13:49:17][WARNING] Spyglass: Similar row(s) already inserted.\n",
      "[13:49:17][WARNING] Spyglass: Similar row(s) already inserted.\n",
      "[13:49:17][WARNING] Spyglass: Similar row(s) already inserted.\n",
      "[13:49:17][WARNING] Spyglass: Similar row(s) already inserted.\n",
      "[13:49:17][WARNING] Spyglass: Similar row(s) already inserted.\n",
      "[13:49:17][WARNING] Spyglass: Similar row(s) already inserted.\n",
      "[13:49:17][WARNING] Spyglass: Similar row(s) already inserted.\n"
     ]
    },
    {
     "name": "stderr",
     "output_type": "stream",
     "text": [
      "[13:49:17][WARNING] Spyglass: Similar row(s) already inserted.\n",
      "[13:49:17][WARNING] Spyglass: Similar row(s) already inserted.\n",
      "[13:49:17][WARNING] Spyglass: Similar row(s) already inserted.\n",
      "[13:49:17][WARNING] Spyglass: Similar row(s) already inserted.\n",
      "[13:49:17][WARNING] Spyglass: Similar row(s) already inserted.\n",
      "[13:49:17][WARNING] Spyglass: Similar row(s) already inserted.\n"
     ]
    }
   ],
   "source": [
    "group_key = {\n",
    "    \"nwb_file_name\": nwb_copy_file_name,\n",
    "    \"interval_list_name\": interval_list_name,\n",
    "    \"preproc_param_name\": \"franklab_tetrode_hippocampus\",\n",
    "    \"team_name\": \"Alison Comrie\",\n",
    "}\n",
    "selection_keys = []\n",
    "for sort_group_id in ca1_sort_group_ids:\n",
    "    key = {\n",
    "        **group_key,\n",
    "        \"sort_group_id\": sort_group_id,\n",
    "    }\n",
    "    sgs.SpikeSortingRecordingSelection.insert_selection(key)\n",
    "    selection_keys.append(key)\n",
    "\n",
    "sgs.SpikeSortingRecording.populate(\n",
    "    selection_keys, processes=None, display_progress=True\n",
    ")"
   ]
  },
  {
   "cell_type": "code",
   "execution_count": 8,
   "metadata": {},
   "outputs": [
    {
     "name": "stderr",
     "output_type": "stream",
     "text": [
      "[13:49:17][WARNING] Spyglass: Similar row(s) already inserted.\n",
      "[13:49:17][WARNING] Spyglass: Similar row(s) already inserted.\n",
      "[13:49:17][WARNING] Spyglass: Similar row(s) already inserted.\n",
      "[13:49:17][WARNING] Spyglass: Similar row(s) already inserted.\n",
      "[13:49:17][WARNING] Spyglass: Similar row(s) already inserted.\n",
      "[13:49:17][WARNING] Spyglass: Similar row(s) already inserted.\n"
     ]
    },
    {
     "name": "stderr",
     "output_type": "stream",
     "text": [
      "[13:49:17][WARNING] Spyglass: Similar row(s) already inserted.\n",
      "[13:49:17][WARNING] Spyglass: Similar row(s) already inserted.\n",
      "[13:49:17][WARNING] Spyglass: Similar row(s) already inserted.\n",
      "[13:49:17][WARNING] Spyglass: Similar row(s) already inserted.\n",
      "[13:49:17][WARNING] Spyglass: Similar row(s) already inserted.\n",
      "[13:49:17][WARNING] Spyglass: Similar row(s) already inserted.\n",
      "[13:49:17][WARNING] Spyglass: Similar row(s) already inserted.\n",
      "[13:49:17][WARNING] Spyglass: Similar row(s) already inserted.\n",
      "[13:49:17][WARNING] Spyglass: Similar row(s) already inserted.\n",
      "[13:49:17][WARNING] Spyglass: Similar row(s) already inserted.\n",
      "[13:49:17][WARNING] Spyglass: Similar row(s) already inserted.\n",
      "[13:49:17][WARNING] Spyglass: Similar row(s) already inserted.\n",
      "[13:49:17][WARNING] Spyglass: Similar row(s) already inserted.\n",
      "[13:49:17][WARNING] Spyglass: Similar row(s) already inserted.\n",
      "[13:49:17][WARNING] Spyglass: Similar row(s) already inserted.\n",
      "[13:49:17][WARNING] Spyglass: Similar row(s) already inserted.\n"
     ]
    }
   ],
   "source": [
    "recording_ids = (\n",
    "    sgs.SpikeSortingRecordingSelection & {\"nwb_file_name\": nwb_copy_file_name}\n",
    ").fetch(\"recording_id\")\n",
    "\n",
    "selection_keys = []\n",
    "\n",
    "for recording_id in recording_ids:\n",
    "    key = {\n",
    "        \"recording_id\": recording_id,\n",
    "        \"artifact_param_name\": \"none\",\n",
    "    }\n",
    "    sgs.ArtifactDetectionSelection.insert_selection(key)\n",
    "    selection_keys.append(key)\n",
    "\n",
    "sgs.ArtifactDetection.populate(\n",
    "    selection_keys, processes=None, display_progress=True\n",
    ")"
   ]
  },
  {
   "cell_type": "code",
   "execution_count": 9,
   "metadata": {},
   "outputs": [
    {
     "name": "stderr",
     "output_type": "stream",
     "text": [
      "[13:49:18][INFO] Spyglass: Similar row(s) already inserted.\n",
      "[13:49:18][INFO] Spyglass: Similar row(s) already inserted.\n"
     ]
    },
    {
     "name": "stderr",
     "output_type": "stream",
     "text": [
      "[13:49:18][INFO] Spyglass: Similar row(s) already inserted.\n",
      "[13:49:18][INFO] Spyglass: Similar row(s) already inserted.\n",
      "[13:49:18][INFO] Spyglass: Similar row(s) already inserted.\n",
      "[13:49:18][INFO] Spyglass: Similar row(s) already inserted.\n",
      "[13:49:18][INFO] Spyglass: Similar row(s) already inserted.\n",
      "[13:49:18][INFO] Spyglass: Similar row(s) already inserted.\n",
      "[13:49:18][INFO] Spyglass: Similar row(s) already inserted.\n",
      "[13:49:18][INFO] Spyglass: Similar row(s) already inserted.\n",
      "[13:49:18][INFO] Spyglass: Similar row(s) already inserted.\n",
      "[13:49:18][INFO] Spyglass: Similar row(s) already inserted.\n",
      "[13:49:18][INFO] Spyglass: Similar row(s) already inserted.\n",
      "[13:49:18][INFO] Spyglass: Similar row(s) already inserted.\n",
      "[13:49:18][INFO] Spyglass: Similar row(s) already inserted.\n",
      "[13:49:18][INFO] Spyglass: Similar row(s) already inserted.\n",
      "[13:49:18][INFO] Spyglass: Similar row(s) already inserted.\n",
      "[13:49:18][INFO] Spyglass: Similar row(s) already inserted.\n",
      "[13:49:18][INFO] Spyglass: Similar row(s) already inserted.\n",
      "[13:49:18][INFO] Spyglass: Similar row(s) already inserted.\n",
      "[13:49:18][INFO] Spyglass: Similar row(s) already inserted.\n",
      "[13:49:18][INFO] Spyglass: Similar row(s) already inserted.\n"
     ]
    }
   ],
   "source": [
    "selection_keys = []\n",
    "for recording_id in recording_ids:\n",
    "    key = {\n",
    "        \"recording_id\": recording_id,\n",
    "        \"sorter\": \"clusterless_thresholder\",\n",
    "        \"sorter_param_name\": \"default_clusterless\",\n",
    "        \"nwb_file_name\": nwb_copy_file_name,\n",
    "        \"interval_list_name\": str(\n",
    "            (\n",
    "                sgs.ArtifactDetectionSelection & {\"recording_id\": recording_id}\n",
    "            ).fetch1(\"artifact_id\")\n",
    "        ),\n",
    "    }\n",
    "    sgs.SpikeSortingSelection.insert_selection(key)\n",
    "    selection_keys.append(key)\n",
    "\n",
    "sgs.SpikeSorting.populate(selection_keys, processes=None, display_progress=True)"
   ]
  },
  {
   "cell_type": "code",
   "execution_count": 10,
   "metadata": {},
   "outputs": [],
   "source": [
    "from spyglass.spikesorting.spikesorting_merge import SpikeSortingOutput\n",
    "\n",
    "sorting_ids = (\n",
    "    sgs.SpikeSortingSelection & {\"nwb_file_name\": nwb_copy_file_name}\n",
    ").fetch(\"sorting_id\")\n",
    "\n",
    "for sorting_id in sorting_ids:\n",
    "    try:\n",
    "        sgs.CurationV1.insert_curation(sorting_id=sorting_id)\n",
    "    except KeyError as e:\n",
    "        pass\n",
    "\n",
    "SpikeSortingOutput.insert(\n",
    "    sgs.CurationV1().fetch(\"KEY\"),\n",
    "    part_name=\"CurationV1\",\n",
    "    skip_duplicates=True,\n",
    ")"
   ]
  },
  {
   "cell_type": "code",
   "execution_count": 11,
   "metadata": {},
   "outputs": [
    {
     "data": {
      "text/html": [
       "\n",
       "    \n",
       "    <style type=\"text/css\">\n",
       "        .Relation{\n",
       "            border-collapse:collapse;\n",
       "        }\n",
       "        .Relation th{\n",
       "            background: #A0A0A0; color: #ffffff; padding:4px; border:#f0e0e0 1px solid;\n",
       "            font-weight: normal; font-family: monospace; font-size: 100%;\n",
       "        }\n",
       "        .Relation td{\n",
       "            padding:4px; border:#f0e0e0 1px solid; font-size:100%;\n",
       "        }\n",
       "        .Relation tr:nth-child(odd){\n",
       "            background: #ffffff;\n",
       "        }\n",
       "        .Relation tr:nth-child(even){\n",
       "            background: #f3f1ff;\n",
       "        }\n",
       "        /* Tooltip container */\n",
       "        .djtooltip {\n",
       "        }\n",
       "        /* Tooltip text */\n",
       "        .djtooltip .djtooltiptext {\n",
       "            visibility: hidden;\n",
       "            width: 120px;\n",
       "            background-color: black;\n",
       "            color: #fff;\n",
       "            text-align: center;\n",
       "            padding: 5px 0;\n",
       "            border-radius: 6px;\n",
       "            /* Position the tooltip text - see examples below! */\n",
       "            position: absolute;\n",
       "            z-index: 1;\n",
       "        }\n",
       "        #primary {\n",
       "            font-weight: bold;\n",
       "            color: black;\n",
       "        }\n",
       "        #nonprimary {\n",
       "            font-weight: normal;\n",
       "            color: white;\n",
       "        }\n",
       "\n",
       "        /* Show the tooltip text when you mouse over the tooltip container */\n",
       "        .djtooltip:hover .djtooltiptext {\n",
       "            visibility: visible;\n",
       "        }\n",
       "    </style>\n",
       "    \n",
       "    <b>Curation of a SpikeSorting. Use `insert_curation` to insert rows.</b>\n",
       "        <div style=\"max-height:1000px;max-width:1500px;overflow:auto;\">\n",
       "        <table border=\"1\" class=\"Relation\">\n",
       "            <thead> <tr style=\"text-align: right;\"> <th> <div class=\"djtooltip\">\n",
       "                            <p id=\"primary\">sorting_id</p>\n",
       "                            <span class=\"djtooltiptext\"></span>\n",
       "                        </div></th><th><div class=\"djtooltip\">\n",
       "                            <p id=\"primary\">curation_id</p>\n",
       "                            <span class=\"djtooltiptext\"></span>\n",
       "                        </div></th><th><div class=\"djtooltip\">\n",
       "                            <p id=\"nonprimary\">parent_curation_id</p>\n",
       "                            <span class=\"djtooltiptext\"></span>\n",
       "                        </div></th><th><div class=\"djtooltip\">\n",
       "                            <p id=\"nonprimary\">analysis_file_name</p>\n",
       "                            <span class=\"djtooltiptext\">name of the file</span>\n",
       "                        </div></th><th><div class=\"djtooltip\">\n",
       "                            <p id=\"nonprimary\">object_id</p>\n",
       "                            <span class=\"djtooltiptext\"></span>\n",
       "                        </div></th><th><div class=\"djtooltip\">\n",
       "                            <p id=\"nonprimary\">merges_applied</p>\n",
       "                            <span class=\"djtooltiptext\"></span>\n",
       "                        </div></th><th><div class=\"djtooltip\">\n",
       "                            <p id=\"nonprimary\">description</p>\n",
       "                            <span class=\"djtooltiptext\"></span>\n",
       "                        </div> </th> </tr> </thead>\n",
       "            <tbody> <tr> <td>03dc29a5-febe-4a59-ab61-21a25dea3625</td>\n",
       "<td>0</td>\n",
       "<td>-1</td>\n",
       "<td>j1620210710_EOE1VZ4YAX.nwb</td>\n",
       "<td>52889e86-c249-4916-9576-a9ccf7f48dbe</td>\n",
       "<td>0</td>\n",
       "<td></td></tr><tr><td>090377fb-72b7-4894-954e-80fd801c687e</td>\n",
       "<td>0</td>\n",
       "<td>-1</td>\n",
       "<td>j1620210710_RG9WEE65L7.nwb</td>\n",
       "<td>23e8c60e-493d-4d52-9f47-fc93a96e93ca</td>\n",
       "<td>0</td>\n",
       "<td></td></tr><tr><td>0cf93833-6a14-42d2-927f-0456ec84ef37</td>\n",
       "<td>0</td>\n",
       "<td>-1</td>\n",
       "<td>j1620210710_5USI0CJ4BI.nwb</td>\n",
       "<td>60589280-cb13-49d8-879e-89e2ed63f7f3</td>\n",
       "<td>0</td>\n",
       "<td></td></tr><tr><td>110e27f6-5ffa-4be4-9600-82c9f094f7d7</td>\n",
       "<td>0</td>\n",
       "<td>-1</td>\n",
       "<td>j1620210710_D5E1KFPBPT.nwb</td>\n",
       "<td>c1697217-20cc-47ca-adf4-4fc7ae5a7fd4</td>\n",
       "<td>0</td>\n",
       "<td></td></tr><tr><td>21bea0ea-3084-475a-992a-134349554977</td>\n",
       "<td>0</td>\n",
       "<td>-1</td>\n",
       "<td>linear_army20240117_QSHM2CKAGR.nwb</td>\n",
       "<td>bd34b01a-3b3d-4c92-a221-03b1c89dd69b</td>\n",
       "<td>0</td>\n",
       "<td>testing sort</td></tr><tr><td>21bea0ea-3084-475a-992a-134349554977</td>\n",
       "<td>1</td>\n",
       "<td>1</td>\n",
       "<td>linear_army20240117_EHL4TQNTQI.nwb</td>\n",
       "<td>659ea0d7-8b29-49e2-b9b4-9996a8c32c4f</td>\n",
       "<td>0</td>\n",
       "<td>testing sort</td></tr><tr><td>3046a016-1613-4481-bdb2-f470f622af57</td>\n",
       "<td>0</td>\n",
       "<td>-1</td>\n",
       "<td>j1620210710_1HIOJAP1EX.nwb</td>\n",
       "<td>5a11d7d4-8f81-4fd7-8bc9-1116e7862be0</td>\n",
       "<td>0</td>\n",
       "<td></td></tr><tr><td>41a13836-e128-47a7-a0f7-88459de5f2d8</td>\n",
       "<td>0</td>\n",
       "<td>-1</td>\n",
       "<td>j1620210710_GLSJDRVX3Q.nwb</td>\n",
       "<td>b5d41308-974f-4075-8a38-23242347aa4f</td>\n",
       "<td>0</td>\n",
       "<td></td></tr><tr><td>4bc61e94-5bf9-4aab-85fe-bb736f8799e3</td>\n",
       "<td>0</td>\n",
       "<td>-1</td>\n",
       "<td>j1620210710_C2NC7BQRMH.nwb</td>\n",
       "<td>0e3d8262-d904-42d7-bc77-a5c74d5b0301</td>\n",
       "<td>0</td>\n",
       "<td></td></tr><tr><td>5d15f94e-d53d-4b9a-8a98-4d1ef0d846a2</td>\n",
       "<td>0</td>\n",
       "<td>-1</td>\n",
       "<td>j1620210710_U8329RLVNI.nwb</td>\n",
       "<td>01c46328-b243-42d9-9025-a822d70ac3e4</td>\n",
       "<td>0</td>\n",
       "<td></td></tr><tr><td>5ece42c7-021a-4cd7-8d44-e1aa6131952f</td>\n",
       "<td>0</td>\n",
       "<td>-1</td>\n",
       "<td>j1620210710_C8X5LNL6VP.nwb</td>\n",
       "<td>3653659e-5b0e-4473-9545-5bf0e8196c43</td>\n",
       "<td>0</td>\n",
       "<td></td></tr><tr><td>642242ff-5f0e-45a2-bcc1-ca681f37b4a3</td>\n",
       "<td>0</td>\n",
       "<td>-1</td>\n",
       "<td>mediumnwb20230802_K7IXFG1KK3.nwb</td>\n",
       "<td>6e49ad7e-e33d-4cc0-8647-b30aa32aca43</td>\n",
       "<td>0</td>\n",
       "<td>testing sort</td> </tr> </tbody>\n",
       "        </table>\n",
       "        <p>...</p>\n",
       "        <p>Total: 37</p></div>\n",
       "        "
      ],
      "text/plain": [
       "*sorting_id    *curation_id   parent_curatio analysis_file_ object_id      merges_applied description   \n",
       "+------------+ +------------+ +------------+ +------------+ +------------+ +------------+ +------------+\n",
       "03dc29a5-febe- 0              -1             j1620210710_EO 52889e86-c249- 0                            \n",
       "090377fb-72b7- 0              -1             j1620210710_RG 23e8c60e-493d- 0                            \n",
       "0cf93833-6a14- 0              -1             j1620210710_5U 60589280-cb13- 0                            \n",
       "110e27f6-5ffa- 0              -1             j1620210710_D5 c1697217-20cc- 0                            \n",
       "21bea0ea-3084- 0              -1             linear_army202 bd34b01a-3b3d- 0              testing sort  \n",
       "21bea0ea-3084- 1              1              linear_army202 659ea0d7-8b29- 0              testing sort  \n",
       "3046a016-1613- 0              -1             j1620210710_1H 5a11d7d4-8f81- 0                            \n",
       "41a13836-e128- 0              -1             j1620210710_GL b5d41308-974f- 0                            \n",
       "4bc61e94-5bf9- 0              -1             j1620210710_C2 0e3d8262-d904- 0                            \n",
       "5d15f94e-d53d- 0              -1             j1620210710_U8 01c46328-b243- 0                            \n",
       "5ece42c7-021a- 0              -1             j1620210710_C8 3653659e-5b0e- 0                            \n",
       "642242ff-5f0e- 0              -1             mediumnwb20230 6e49ad7e-e33d- 0              testing sort  \n",
       "   ...\n",
       " (Total: 37)"
      ]
     },
     "execution_count": 11,
     "metadata": {},
     "output_type": "execute_result"
    }
   ],
   "source": [
    "sgs.CurationV1()"
   ]
  },
  {
   "cell_type": "code",
   "execution_count": 12,
   "metadata": {},
   "outputs": [
    {
     "data": {
      "text/html": [
       "\n",
       "    \n",
       "    <style type=\"text/css\">\n",
       "        .Relation{\n",
       "            border-collapse:collapse;\n",
       "        }\n",
       "        .Relation th{\n",
       "            background: #A0A0A0; color: #ffffff; padding:4px; border:#f0e0e0 1px solid;\n",
       "            font-weight: normal; font-family: monospace; font-size: 100%;\n",
       "        }\n",
       "        .Relation td{\n",
       "            padding:4px; border:#f0e0e0 1px solid; font-size:100%;\n",
       "        }\n",
       "        .Relation tr:nth-child(odd){\n",
       "            background: #ffffff;\n",
       "        }\n",
       "        .Relation tr:nth-child(even){\n",
       "            background: #f3f1ff;\n",
       "        }\n",
       "        /* Tooltip container */\n",
       "        .djtooltip {\n",
       "        }\n",
       "        /* Tooltip text */\n",
       "        .djtooltip .djtooltiptext {\n",
       "            visibility: hidden;\n",
       "            width: 120px;\n",
       "            background-color: black;\n",
       "            color: #fff;\n",
       "            text-align: center;\n",
       "            padding: 5px 0;\n",
       "            border-radius: 6px;\n",
       "            /* Position the tooltip text - see examples below! */\n",
       "            position: absolute;\n",
       "            z-index: 1;\n",
       "        }\n",
       "        #primary {\n",
       "            font-weight: bold;\n",
       "            color: black;\n",
       "        }\n",
       "        #nonprimary {\n",
       "            font-weight: normal;\n",
       "            color: white;\n",
       "        }\n",
       "\n",
       "        /* Show the tooltip text when you mouse over the tooltip container */\n",
       "        .djtooltip:hover .djtooltiptext {\n",
       "            visibility: visible;\n",
       "        }\n",
       "    </style>\n",
       "    \n",
       "    <b></b>\n",
       "        <div style=\"max-height:1000px;max-width:1500px;overflow:auto;\">\n",
       "        <table border=\"1\" class=\"Relation\">\n",
       "            <thead> <tr style=\"text-align: right;\"> <th> <div class=\"djtooltip\">\n",
       "                            <p id=\"primary\">features_param_name</p>\n",
       "                            <span class=\"djtooltiptext\">a name for this set of parameters</span>\n",
       "                        </div></th><th><div class=\"djtooltip\">\n",
       "                            <p id=\"nonprimary\">params</p>\n",
       "                            <span class=\"djtooltiptext\">the parameters for the waveform features</span>\n",
       "                        </div> </th> </tr> </thead>\n",
       "            <tbody> <tr> <td>amplitude</td>\n",
       "<td>=BLOB=</td></tr><tr><td>amplitude, spike_location</td>\n",
       "<td>=BLOB=</td> </tr> </tbody>\n",
       "        </table>\n",
       "        \n",
       "        <p>Total: 2</p></div>\n",
       "        "
      ],
      "text/plain": [
       "*features_para params    \n",
       "+------------+ +--------+\n",
       "amplitude      =BLOB=    \n",
       "amplitude, spi =BLOB=    \n",
       " (Total: 2)"
      ]
     },
     "execution_count": 12,
     "metadata": {},
     "output_type": "execute_result"
    }
   ],
   "source": [
    "from spyglass.decoding.v1.waveform_features import WaveformFeaturesParams\n",
    "\n",
    "WaveformFeaturesParams()"
   ]
  },
  {
   "cell_type": "code",
   "execution_count": 13,
   "metadata": {},
   "outputs": [
    {
     "data": {
      "text/html": [
       "\n",
       "    \n",
       "    <style type=\"text/css\">\n",
       "        .Relation{\n",
       "            border-collapse:collapse;\n",
       "        }\n",
       "        .Relation th{\n",
       "            background: #A0A0A0; color: #ffffff; padding:4px; border:#f0e0e0 1px solid;\n",
       "            font-weight: normal; font-family: monospace; font-size: 100%;\n",
       "        }\n",
       "        .Relation td{\n",
       "            padding:4px; border:#f0e0e0 1px solid; font-size:100%;\n",
       "        }\n",
       "        .Relation tr:nth-child(odd){\n",
       "            background: #ffffff;\n",
       "        }\n",
       "        .Relation tr:nth-child(even){\n",
       "            background: #f3f1ff;\n",
       "        }\n",
       "        /* Tooltip container */\n",
       "        .djtooltip {\n",
       "        }\n",
       "        /* Tooltip text */\n",
       "        .djtooltip .djtooltiptext {\n",
       "            visibility: hidden;\n",
       "            width: 120px;\n",
       "            background-color: black;\n",
       "            color: #fff;\n",
       "            text-align: center;\n",
       "            padding: 5px 0;\n",
       "            border-radius: 6px;\n",
       "            /* Position the tooltip text - see examples below! */\n",
       "            position: absolute;\n",
       "            z-index: 1;\n",
       "        }\n",
       "        #primary {\n",
       "            font-weight: bold;\n",
       "            color: black;\n",
       "        }\n",
       "        #nonprimary {\n",
       "            font-weight: normal;\n",
       "            color: white;\n",
       "        }\n",
       "\n",
       "        /* Show the tooltip text when you mouse over the tooltip container */\n",
       "        .djtooltip:hover .djtooltiptext {\n",
       "            visibility: visible;\n",
       "        }\n",
       "    </style>\n",
       "    \n",
       "    <b></b>\n",
       "        <div style=\"max-height:1000px;max-width:1500px;overflow:auto;\">\n",
       "        <table border=\"1\" class=\"Relation\">\n",
       "            <thead> <tr style=\"text-align: right;\"> <th> <div class=\"djtooltip\">\n",
       "                            <p id=\"primary\">spikesorting_merge_id</p>\n",
       "                            <span class=\"djtooltiptext\"></span>\n",
       "                        </div></th><th><div class=\"djtooltip\">\n",
       "                            <p id=\"primary\">features_param_name</p>\n",
       "                            <span class=\"djtooltiptext\">a name for this set of parameters</span>\n",
       "                        </div> </th> </tr> </thead>\n",
       "            <tbody> <tr> <td>8cf26c5f-f3b5-6872-ebf9-c1a8c020305a</td>\n",
       "<td>amplitude</td> </tr> </tbody>\n",
       "        </table>\n",
       "        \n",
       "        <p>Total: 1</p></div>\n",
       "        "
      ],
      "text/plain": [
       "*spikesorting_ *features_para\n",
       "+------------+ +------------+\n",
       "8cf26c5f-f3b5- amplitude     \n",
       " (Total: 1)"
      ]
     },
     "execution_count": 13,
     "metadata": {},
     "output_type": "execute_result"
    }
   ],
   "source": [
    "from spyglass.decoding.v1.waveform_features import UnitWaveformFeaturesSelection\n",
    "\n",
    "UnitWaveformFeaturesSelection()"
   ]
  },
  {
   "cell_type": "code",
   "execution_count": 14,
   "metadata": {},
   "outputs": [
    {
     "data": {
      "text/plain": [
       "array([UUID('d76584f8-0969-d6e1-cc10-d59dc465bbdf'),\n",
       "       UUID('33d71671-63e5-0d99-0504-43d9e26ab064'),\n",
       "       UUID('dfa87e8e-c5cf-95f8-ab58-7ea5605d3630'),\n",
       "       UUID('a6cc0a23-7e29-6d56-e4c6-14185bcea85a'),\n",
       "       UUID('5ae79d97-6a99-c4bf-204f-37bacb4c76a9'),\n",
       "       UUID('869072e1-76d6-e200-2e68-93e55c5c93e5'),\n",
       "       UUID('a0771d6c-fc9d-f6bc-2d9d-3502fbd01d57'),\n",
       "       UUID('ed70dacb-a637-6b32-6eac-139a5dc5f7c5'),\n",
       "       UUID('df51df7a-ab08-fbe1-a880-cb3ebd3fb983'),\n",
       "       UUID('f52e988b-ff2c-732c-b98a-4df28677c57c'),\n",
       "       UUID('16a99d71-4d6d-a857-4b4c-2d7d00cb24c7'),\n",
       "       UUID('3c7ee428-b12b-3a7d-13a7-f84f138dc511'),\n",
       "       UUID('1d48bf84-3a81-5d06-c3f0-28edae770348'),\n",
       "       UUID('fd294787-0225-683f-54a6-f97c502e7b52'),\n",
       "       UUID('3bd88769-9b39-4d1a-4bda-b50be1c2956b'),\n",
       "       UUID('0164f4ef-8f78-c9a7-d50e-72c699bbbffc'),\n",
       "       UUID('4845e1c1-4579-c9b7-2299-12165edeeabf'),\n",
       "       UUID('58784fb4-44cf-5957-6ac7-1def86583c22'),\n",
       "       UUID('800f080a-6da0-670e-87df-fac918545025'),\n",
       "       UUID('09019431-f934-bf05-82d4-66706049043a'),\n",
       "       UUID('98decc17-8b38-1b5b-f704-1794bfef356e'),\n",
       "       UUID('5712ba0d-331e-1f99-2c45-f9256730e6e5')], dtype=object)"
      ]
     },
     "execution_count": 14,
     "metadata": {},
     "output_type": "execute_result"
    }
   ],
   "source": [
    "from spyglass.spikesorting.spikesorting_merge import SpikeSortingOutput\n",
    "\n",
    "merge_ids = (\n",
    "    (SpikeSortingOutput.CurationV1 * sgs.SpikeSortingSelection)\n",
    "    & {\n",
    "        \"nwb_file_name\": nwb_copy_file_name,\n",
    "        \"sorter\": \"clusterless_thresholder\",\n",
    "        \"sorter_param_name\": \"default_clusterless\",\n",
    "    }\n",
    ").fetch(\"merge_id\")\n",
    "merge_ids"
   ]
  },
  {
   "cell_type": "code",
   "execution_count": 15,
   "metadata": {},
   "outputs": [
    {
     "data": {
      "text/html": [
       "\n",
       "    \n",
       "    <style type=\"text/css\">\n",
       "        .Relation{\n",
       "            border-collapse:collapse;\n",
       "        }\n",
       "        .Relation th{\n",
       "            background: #A0A0A0; color: #ffffff; padding:4px; border:#f0e0e0 1px solid;\n",
       "            font-weight: normal; font-family: monospace; font-size: 100%;\n",
       "        }\n",
       "        .Relation td{\n",
       "            padding:4px; border:#f0e0e0 1px solid; font-size:100%;\n",
       "        }\n",
       "        .Relation tr:nth-child(odd){\n",
       "            background: #ffffff;\n",
       "        }\n",
       "        .Relation tr:nth-child(even){\n",
       "            background: #f3f1ff;\n",
       "        }\n",
       "        /* Tooltip container */\n",
       "        .djtooltip {\n",
       "        }\n",
       "        /* Tooltip text */\n",
       "        .djtooltip .djtooltiptext {\n",
       "            visibility: hidden;\n",
       "            width: 120px;\n",
       "            background-color: black;\n",
       "            color: #fff;\n",
       "            text-align: center;\n",
       "            padding: 5px 0;\n",
       "            border-radius: 6px;\n",
       "            /* Position the tooltip text - see examples below! */\n",
       "            position: absolute;\n",
       "            z-index: 1;\n",
       "        }\n",
       "        #primary {\n",
       "            font-weight: bold;\n",
       "            color: black;\n",
       "        }\n",
       "        #nonprimary {\n",
       "            font-weight: normal;\n",
       "            color: white;\n",
       "        }\n",
       "\n",
       "        /* Show the tooltip text when you mouse over the tooltip container */\n",
       "        .djtooltip:hover .djtooltiptext {\n",
       "            visibility: visible;\n",
       "        }\n",
       "    </style>\n",
       "    \n",
       "    <b></b>\n",
       "        <div style=\"max-height:1000px;max-width:1500px;overflow:auto;\">\n",
       "        <table border=\"1\" class=\"Relation\">\n",
       "            <thead> <tr style=\"text-align: right;\"> <th> <div class=\"djtooltip\">\n",
       "                            <p id=\"primary\">spikesorting_merge_id</p>\n",
       "                            <span class=\"djtooltiptext\"></span>\n",
       "                        </div></th><th><div class=\"djtooltip\">\n",
       "                            <p id=\"primary\">features_param_name</p>\n",
       "                            <span class=\"djtooltiptext\">a name for this set of parameters</span>\n",
       "                        </div> </th> </tr> </thead>\n",
       "            <tbody> <tr> <td>0164f4ef-8f78-c9a7-d50e-72c699bbbffc</td>\n",
       "<td>amplitude</td></tr><tr><td>09019431-f934-bf05-82d4-66706049043a</td>\n",
       "<td>amplitude</td></tr><tr><td>16a99d71-4d6d-a857-4b4c-2d7d00cb24c7</td>\n",
       "<td>amplitude</td></tr><tr><td>1d48bf84-3a81-5d06-c3f0-28edae770348</td>\n",
       "<td>amplitude</td></tr><tr><td>33d71671-63e5-0d99-0504-43d9e26ab064</td>\n",
       "<td>amplitude</td></tr><tr><td>3bd88769-9b39-4d1a-4bda-b50be1c2956b</td>\n",
       "<td>amplitude</td></tr><tr><td>3c7ee428-b12b-3a7d-13a7-f84f138dc511</td>\n",
       "<td>amplitude</td></tr><tr><td>4845e1c1-4579-c9b7-2299-12165edeeabf</td>\n",
       "<td>amplitude</td></tr><tr><td>5712ba0d-331e-1f99-2c45-f9256730e6e5</td>\n",
       "<td>amplitude</td></tr><tr><td>58784fb4-44cf-5957-6ac7-1def86583c22</td>\n",
       "<td>amplitude</td></tr><tr><td>5ae79d97-6a99-c4bf-204f-37bacb4c76a9</td>\n",
       "<td>amplitude</td></tr><tr><td>800f080a-6da0-670e-87df-fac918545025</td>\n",
       "<td>amplitude</td> </tr> </tbody>\n",
       "        </table>\n",
       "        <p>...</p>\n",
       "        <p>Total: 22</p></div>\n",
       "        "
      ],
      "text/plain": [
       "*spikesorting_ *features_para\n",
       "+------------+ +------------+\n",
       "0164f4ef-8f78- amplitude     \n",
       "09019431-f934- amplitude     \n",
       "16a99d71-4d6d- amplitude     \n",
       "1d48bf84-3a81- amplitude     \n",
       "33d71671-63e5- amplitude     \n",
       "3bd88769-9b39- amplitude     \n",
       "3c7ee428-b12b- amplitude     \n",
       "4845e1c1-4579- amplitude     \n",
       "5712ba0d-331e- amplitude     \n",
       "58784fb4-44cf- amplitude     \n",
       "5ae79d97-6a99- amplitude     \n",
       "800f080a-6da0- amplitude     \n",
       "   ...\n",
       " (Total: 22)"
      ]
     },
     "execution_count": 15,
     "metadata": {},
     "output_type": "execute_result"
    }
   ],
   "source": [
    "selection_keys = [\n",
    "    {\n",
    "        \"spikesorting_merge_id\": merge_id,\n",
    "        \"features_param_name\": \"amplitude\",\n",
    "    }\n",
    "    for merge_id in merge_ids\n",
    "]\n",
    "UnitWaveformFeaturesSelection.insert(selection_keys, skip_duplicates=True)\n",
    "\n",
    "UnitWaveformFeaturesSelection & selection_keys"
   ]
  },
  {
   "cell_type": "code",
   "execution_count": 16,
   "metadata": {},
   "outputs": [
    {
     "data": {
      "application/vnd.jupyter.widget-view+json": {
       "model_id": "e1b510d5af7e43479ee152cf5168393f",
       "version_major": 2,
       "version_minor": 0
      },
      "text/plain": [
       "extract waveforms memmap:   0%|          | 0/9 [00:00<?, ?it/s]"
      ]
     },
     "metadata": {},
     "output_type": "display_data"
    },
    {
     "name": "stderr",
     "output_type": "stream",
     "text": [
      "[13:49:30][INFO] Spyglass: Writing new NWB file j1620210710_BEXBLZ16C5.nwb\n"
     ]
    },
    {
     "data": {
      "application/vnd.jupyter.widget-view+json": {
       "model_id": "804a767b3cbd4fbcad9cdd922213f4ab",
       "version_major": 2,
       "version_minor": 0
      },
      "text/plain": [
       "extract waveforms memmap:   0%|          | 0/9 [00:00<?, ?it/s]"
      ]
     },
     "metadata": {},
     "output_type": "display_data"
    },
    {
     "name": "stderr",
     "output_type": "stream",
     "text": [
      "[13:49:40][INFO] Spyglass: Writing new NWB file j1620210710_9WQZADMLP8.nwb\n"
     ]
    },
    {
     "data": {
      "application/vnd.jupyter.widget-view+json": {
       "model_id": "0480e8620f2a48b0ac61eab875b40bba",
       "version_major": 2,
       "version_minor": 0
      },
      "text/plain": [
       "extract waveforms memmap:   0%|          | 0/9 [00:00<?, ?it/s]"
      ]
     },
     "metadata": {},
     "output_type": "display_data"
    },
    {
     "name": "stderr",
     "output_type": "stream",
     "text": [
      "[13:49:56][INFO] Spyglass: Writing new NWB file j1620210710_31IYA5BJDJ.nwb\n"
     ]
    },
    {
     "data": {
      "application/vnd.jupyter.widget-view+json": {
       "model_id": "412a516f596d48f48ab1e1ea6517ab59",
       "version_major": 2,
       "version_minor": 0
      },
      "text/plain": [
       "extract waveforms memmap:   0%|          | 0/9 [00:00<?, ?it/s]"
      ]
     },
     "metadata": {},
     "output_type": "display_data"
    },
    {
     "name": "stderr",
     "output_type": "stream",
     "text": [
      "[13:50:12][INFO] Spyglass: Writing new NWB file j1620210710_BZYAD6ITQX.nwb\n"
     ]
    },
    {
     "data": {
      "application/vnd.jupyter.widget-view+json": {
       "model_id": "4cf0f2eb736a47e7a6a7ecfbdf2cc001",
       "version_major": 2,
       "version_minor": 0
      },
      "text/plain": [
       "extract waveforms memmap:   0%|          | 0/9 [00:00<?, ?it/s]"
      ]
     },
     "metadata": {},
     "output_type": "display_data"
    },
    {
     "name": "stderr",
     "output_type": "stream",
     "text": [
      "[13:50:26][INFO] Spyglass: Writing new NWB file j1620210710_SP0Y4UD486.nwb\n"
     ]
    },
    {
     "data": {
      "application/vnd.jupyter.widget-view+json": {
       "model_id": "674fedf889024e02a0669f3967295e84",
       "version_major": 2,
       "version_minor": 0
      },
      "text/plain": [
       "extract waveforms memmap:   0%|          | 0/9 [00:00<?, ?it/s]"
      ]
     },
     "metadata": {},
     "output_type": "display_data"
    },
    {
     "name": "stderr",
     "output_type": "stream",
     "text": [
      "[13:50:38][INFO] Spyglass: Writing new NWB file j1620210710_7B7K3MYSHB.nwb\n"
     ]
    },
    {
     "data": {
      "application/vnd.jupyter.widget-view+json": {
       "model_id": "eb008f52dcc64047b96e09ec09061bb1",
       "version_major": 2,
       "version_minor": 0
      },
      "text/plain": [
       "extract waveforms memmap:   0%|          | 0/9 [00:00<?, ?it/s]"
      ]
     },
     "metadata": {},
     "output_type": "display_data"
    },
    {
     "name": "stderr",
     "output_type": "stream",
     "text": [
      "[13:50:51][INFO] Spyglass: Writing new NWB file j1620210710_QJ0YHO69L7.nwb\n"
     ]
    },
    {
     "data": {
      "application/vnd.jupyter.widget-view+json": {
       "model_id": "5aa5ae4f5e71443d979be21cf2405c30",
       "version_major": 2,
       "version_minor": 0
      },
      "text/plain": [
       "extract waveforms memmap:   0%|          | 0/9 [00:00<?, ?it/s]"
      ]
     },
     "metadata": {},
     "output_type": "display_data"
    },
    {
     "name": "stderr",
     "output_type": "stream",
     "text": [
      "[13:51:02][INFO] Spyglass: Writing new NWB file j1620210710_0RLS565DVR.nwb\n"
     ]
    },
    {
     "data": {
      "application/vnd.jupyter.widget-view+json": {
       "model_id": "c85db2bf0f6d4daba3b58051af45ae52",
       "version_major": 2,
       "version_minor": 0
      },
      "text/plain": [
       "extract waveforms memmap:   0%|          | 0/9 [00:00<?, ?it/s]"
      ]
     },
     "metadata": {},
     "output_type": "display_data"
    },
    {
     "name": "stderr",
     "output_type": "stream",
     "text": [
      "[13:51:13][INFO] Spyglass: Writing new NWB file j1620210710_DXKH9S5WD8.nwb\n"
     ]
    },
    {
     "data": {
      "application/vnd.jupyter.widget-view+json": {
       "model_id": "1b9b566025254e7d95ffefc4c5ac76c3",
       "version_major": 2,
       "version_minor": 0
      },
      "text/plain": [
       "extract waveforms memmap:   0%|          | 0/9 [00:00<?, ?it/s]"
      ]
     },
     "metadata": {},
     "output_type": "display_data"
    },
    {
     "name": "stderr",
     "output_type": "stream",
     "text": [
      "[13:51:26][INFO] Spyglass: Writing new NWB file j1620210710_BD1HZRCVVT.nwb\n"
     ]
    },
    {
     "data": {
      "application/vnd.jupyter.widget-view+json": {
       "model_id": "62001ebbf7cb45718700bf282287d4bd",
       "version_major": 2,
       "version_minor": 0
      },
      "text/plain": [
       "extract waveforms memmap:   0%|          | 0/9 [00:00<?, ?it/s]"
      ]
     },
     "metadata": {},
     "output_type": "display_data"
    },
    {
     "name": "stderr",
     "output_type": "stream",
     "text": [
      "[13:51:38][INFO] Spyglass: Writing new NWB file j1620210710_U8K2J1IG73.nwb\n"
     ]
    },
    {
     "data": {
      "application/vnd.jupyter.widget-view+json": {
       "model_id": "bdbcae574d9741e194917e9ca7ea1dcd",
       "version_major": 2,
       "version_minor": 0
      },
      "text/plain": [
       "extract waveforms memmap:   0%|          | 0/9 [00:00<?, ?it/s]"
      ]
     },
     "metadata": {},
     "output_type": "display_data"
    },
    {
     "name": "stderr",
     "output_type": "stream",
     "text": [
      "[13:51:51][INFO] Spyglass: Writing new NWB file j1620210710_QK6MP8FHM6.nwb\n"
     ]
    },
    {
     "data": {
      "application/vnd.jupyter.widget-view+json": {
       "model_id": "a672f2a9a83a46f5b3c8083b9089a7f8",
       "version_major": 2,
       "version_minor": 0
      },
      "text/plain": [
       "extract waveforms memmap:   0%|          | 0/9 [00:00<?, ?it/s]"
      ]
     },
     "metadata": {},
     "output_type": "display_data"
    },
    {
     "name": "stderr",
     "output_type": "stream",
     "text": [
      "[13:52:05][INFO] Spyglass: Writing new NWB file j1620210710_0PNP0EEV76.nwb\n"
     ]
    },
    {
     "data": {
      "application/vnd.jupyter.widget-view+json": {
       "model_id": "5af450c1d61143bbadd56390dec735c5",
       "version_major": 2,
       "version_minor": 0
      },
      "text/plain": [
       "extract waveforms memmap:   0%|          | 0/9 [00:00<?, ?it/s]"
      ]
     },
     "metadata": {},
     "output_type": "display_data"
    },
    {
     "name": "stderr",
     "output_type": "stream",
     "text": [
      "[13:52:20][INFO] Spyglass: Writing new NWB file j1620210710_T0YODXKLH3.nwb\n"
     ]
    },
    {
     "data": {
      "application/vnd.jupyter.widget-view+json": {
       "model_id": "f63e03eef1b94b3aba46aa9a9974f385",
       "version_major": 2,
       "version_minor": 0
      },
      "text/plain": [
       "extract waveforms memmap:   0%|          | 0/9 [00:00<?, ?it/s]"
      ]
     },
     "metadata": {},
     "output_type": "display_data"
    },
    {
     "name": "stderr",
     "output_type": "stream",
     "text": [
      "[13:52:33][INFO] Spyglass: Writing new NWB file j1620210710_Z6S7FIAG7R.nwb\n"
     ]
    },
    {
     "data": {
      "application/vnd.jupyter.widget-view+json": {
       "model_id": "ad7c75966cb6438b9cf5e81fb103deca",
       "version_major": 2,
       "version_minor": 0
      },
      "text/plain": [
       "extract waveforms memmap:   0%|          | 0/9 [00:00<?, ?it/s]"
      ]
     },
     "metadata": {},
     "output_type": "display_data"
    },
    {
     "name": "stderr",
     "output_type": "stream",
     "text": [
      "[13:52:45][INFO] Spyglass: Writing new NWB file j1620210710_FNTGWA77T8.nwb\n"
     ]
    },
    {
     "data": {
      "application/vnd.jupyter.widget-view+json": {
       "model_id": "87ddf78add274dd1b70f9daac9bc4299",
       "version_major": 2,
       "version_minor": 0
      },
      "text/plain": [
       "extract waveforms memmap:   0%|          | 0/9 [00:00<?, ?it/s]"
      ]
     },
     "metadata": {},
     "output_type": "display_data"
    },
    {
     "name": "stderr",
     "output_type": "stream",
     "text": [
      "[13:52:57][INFO] Spyglass: Writing new NWB file j1620210710_2SLJXFPYGN.nwb\n"
     ]
    },
    {
     "data": {
      "application/vnd.jupyter.widget-view+json": {
       "model_id": "a076f083838b4223a17d65ec0ee2d87c",
       "version_major": 2,
       "version_minor": 0
      },
      "text/plain": [
       "extract waveforms memmap:   0%|          | 0/9 [00:00<?, ?it/s]"
      ]
     },
     "metadata": {},
     "output_type": "display_data"
    },
    {
     "name": "stderr",
     "output_type": "stream",
     "text": [
      "[13:53:08][INFO] Spyglass: Writing new NWB file j1620210710_T545R2WP70.nwb\n"
     ]
    },
    {
     "data": {
      "application/vnd.jupyter.widget-view+json": {
       "model_id": "d8ce3e8a9c9b4245b7c75eeae638f572",
       "version_major": 2,
       "version_minor": 0
      },
      "text/plain": [
       "extract waveforms memmap:   0%|          | 0/9 [00:00<?, ?it/s]"
      ]
     },
     "metadata": {},
     "output_type": "display_data"
    },
    {
     "name": "stderr",
     "output_type": "stream",
     "text": [
      "[13:53:20][INFO] Spyglass: Writing new NWB file j1620210710_WILR1WUJ90.nwb\n"
     ]
    },
    {
     "data": {
      "application/vnd.jupyter.widget-view+json": {
       "model_id": "654f24ee8b2f4984b2509ce0d5c11f07",
       "version_major": 2,
       "version_minor": 0
      },
      "text/plain": [
       "extract waveforms memmap:   0%|          | 0/9 [00:00<?, ?it/s]"
      ]
     },
     "metadata": {},
     "output_type": "display_data"
    },
    {
     "name": "stderr",
     "output_type": "stream",
     "text": [
      "[13:53:33][INFO] Spyglass: Writing new NWB file j1620210710_OLG7V5VUUX.nwb\n"
     ]
    },
    {
     "data": {
      "application/vnd.jupyter.widget-view+json": {
       "model_id": "a91e5f9db9964a2ca32794c70e9e53c0",
       "version_major": 2,
       "version_minor": 0
      },
      "text/plain": [
       "extract waveforms memmap:   0%|          | 0/9 [00:00<?, ?it/s]"
      ]
     },
     "metadata": {},
     "output_type": "display_data"
    },
    {
     "name": "stderr",
     "output_type": "stream",
     "text": [
      "[13:53:45][INFO] Spyglass: Writing new NWB file j1620210710_Q845DQ3QL0.nwb\n"
     ]
    },
    {
     "data": {
      "application/vnd.jupyter.widget-view+json": {
       "model_id": "a230c5c074724bb48b6ce0af81910296",
       "version_major": 2,
       "version_minor": 0
      },
      "text/plain": [
       "extract waveforms memmap:   0%|          | 0/9 [00:00<?, ?it/s]"
      ]
     },
     "metadata": {},
     "output_type": "display_data"
    },
    {
     "name": "stderr",
     "output_type": "stream",
     "text": [
      "[13:53:59][INFO] Spyglass: Writing new NWB file j1620210710_3TP8FWZRKL.nwb\n"
     ]
    }
   ],
   "source": [
    "from spyglass.decoding.v1.waveform_features import UnitWaveformFeatures\n",
    "\n",
    "UnitWaveformFeatures.populate(selection_keys)"
   ]
  },
  {
   "cell_type": "code",
   "execution_count": 17,
   "metadata": {},
   "outputs": [
    {
     "data": {
      "text/html": [
       "\n",
       "    \n",
       "    <style type=\"text/css\">\n",
       "        .Relation{\n",
       "            border-collapse:collapse;\n",
       "        }\n",
       "        .Relation th{\n",
       "            background: #A0A0A0; color: #ffffff; padding:4px; border:#f0e0e0 1px solid;\n",
       "            font-weight: normal; font-family: monospace; font-size: 100%;\n",
       "        }\n",
       "        .Relation td{\n",
       "            padding:4px; border:#f0e0e0 1px solid; font-size:100%;\n",
       "        }\n",
       "        .Relation tr:nth-child(odd){\n",
       "            background: #ffffff;\n",
       "        }\n",
       "        .Relation tr:nth-child(even){\n",
       "            background: #f3f1ff;\n",
       "        }\n",
       "        /* Tooltip container */\n",
       "        .djtooltip {\n",
       "        }\n",
       "        /* Tooltip text */\n",
       "        .djtooltip .djtooltiptext {\n",
       "            visibility: hidden;\n",
       "            width: 120px;\n",
       "            background-color: black;\n",
       "            color: #fff;\n",
       "            text-align: center;\n",
       "            padding: 5px 0;\n",
       "            border-radius: 6px;\n",
       "            /* Position the tooltip text - see examples below! */\n",
       "            position: absolute;\n",
       "            z-index: 1;\n",
       "        }\n",
       "        #primary {\n",
       "            font-weight: bold;\n",
       "            color: black;\n",
       "        }\n",
       "        #nonprimary {\n",
       "            font-weight: normal;\n",
       "            color: white;\n",
       "        }\n",
       "\n",
       "        /* Show the tooltip text when you mouse over the tooltip container */\n",
       "        .djtooltip:hover .djtooltiptext {\n",
       "            visibility: visible;\n",
       "        }\n",
       "    </style>\n",
       "    \n",
       "    <b></b>\n",
       "        <div style=\"max-height:1000px;max-width:1500px;overflow:auto;\">\n",
       "        <table border=\"1\" class=\"Relation\">\n",
       "            <thead> <tr style=\"text-align: right;\"> <th> <div class=\"djtooltip\">\n",
       "                            <p id=\"primary\">nwb_file_name</p>\n",
       "                            <span class=\"djtooltiptext\">name of the NWB file</span>\n",
       "                        </div></th><th><div class=\"djtooltip\">\n",
       "                            <p id=\"primary\">waveform_features_group_name</p>\n",
       "                            <span class=\"djtooltiptext\"></span>\n",
       "                        </div> </th> </tr> </thead>\n",
       "            <tbody> <tr> <td>CH65_20211201_.nwb</td>\n",
       "<td>test_group</td></tr><tr><td>j1620210710_.nwb</td>\n",
       "<td>test_group</td> </tr> </tbody>\n",
       "        </table>\n",
       "        \n",
       "        <p>Total: 2</p></div>\n",
       "        "
      ],
      "text/plain": [
       "*nwb_file_name *waveform_feat\n",
       "+------------+ +------------+\n",
       "CH65_20211201_ test_group    \n",
       "j1620210710_.n test_group    \n",
       " (Total: 2)"
      ]
     },
     "execution_count": 17,
     "metadata": {},
     "output_type": "execute_result"
    }
   ],
   "source": [
    "from spyglass.decoding.v1.clusterless import UnitWaveformFeaturesGroup\n",
    "\n",
    "UnitWaveformFeaturesGroup().create_group(\n",
    "    nwb_file_name=nwb_copy_file_name,\n",
    "    group_name=\"test_group\",\n",
    "    keys=selection_keys,\n",
    ")\n",
    "UnitWaveformFeaturesGroup & {\"waveform_features_group_name\": \"test_group\"}"
   ]
  },
  {
   "cell_type": "code",
   "execution_count": 18,
   "metadata": {},
   "outputs": [
    {
     "data": {
      "text/html": [
       "\n",
       "    \n",
       "    <style type=\"text/css\">\n",
       "        .Relation{\n",
       "            border-collapse:collapse;\n",
       "        }\n",
       "        .Relation th{\n",
       "            background: #A0A0A0; color: #ffffff; padding:4px; border:#f0e0e0 1px solid;\n",
       "            font-weight: normal; font-family: monospace; font-size: 100%;\n",
       "        }\n",
       "        .Relation td{\n",
       "            padding:4px; border:#f0e0e0 1px solid; font-size:100%;\n",
       "        }\n",
       "        .Relation tr:nth-child(odd){\n",
       "            background: #ffffff;\n",
       "        }\n",
       "        .Relation tr:nth-child(even){\n",
       "            background: #f3f1ff;\n",
       "        }\n",
       "        /* Tooltip container */\n",
       "        .djtooltip {\n",
       "        }\n",
       "        /* Tooltip text */\n",
       "        .djtooltip .djtooltiptext {\n",
       "            visibility: hidden;\n",
       "            width: 120px;\n",
       "            background-color: black;\n",
       "            color: #fff;\n",
       "            text-align: center;\n",
       "            padding: 5px 0;\n",
       "            border-radius: 6px;\n",
       "            /* Position the tooltip text - see examples below! */\n",
       "            position: absolute;\n",
       "            z-index: 1;\n",
       "        }\n",
       "        #primary {\n",
       "            font-weight: bold;\n",
       "            color: black;\n",
       "        }\n",
       "        #nonprimary {\n",
       "            font-weight: normal;\n",
       "            color: white;\n",
       "        }\n",
       "\n",
       "        /* Show the tooltip text when you mouse over the tooltip container */\n",
       "        .djtooltip:hover .djtooltiptext {\n",
       "            visibility: visible;\n",
       "        }\n",
       "    </style>\n",
       "    \n",
       "    <b></b>\n",
       "        <div style=\"max-height:1000px;max-width:1500px;overflow:auto;\">\n",
       "        <table border=\"1\" class=\"Relation\">\n",
       "            <thead> <tr style=\"text-align: right;\"> <th> <div class=\"djtooltip\">\n",
       "                            <p id=\"primary\">nwb_file_name</p>\n",
       "                            <span class=\"djtooltiptext\">name of the NWB file</span>\n",
       "                        </div></th><th><div class=\"djtooltip\">\n",
       "                            <p id=\"primary\">waveform_features_group_name</p>\n",
       "                            <span class=\"djtooltiptext\"></span>\n",
       "                        </div></th><th><div class=\"djtooltip\">\n",
       "                            <p id=\"primary\">spikesorting_merge_id</p>\n",
       "                            <span class=\"djtooltiptext\"></span>\n",
       "                        </div></th><th><div class=\"djtooltip\">\n",
       "                            <p id=\"primary\">features_param_name</p>\n",
       "                            <span class=\"djtooltiptext\">a name for this set of parameters</span>\n",
       "                        </div> </th> </tr> </thead>\n",
       "            <tbody> <tr> <td>CH65_20211201_.nwb</td>\n",
       "<td>test_group</td>\n",
       "<td>0164f4ef-8f78-c9a7-d50e-72c699bbbffc</td>\n",
       "<td>amplitude</td></tr><tr><td>CH65_20211201_.nwb</td>\n",
       "<td>test_group</td>\n",
       "<td>09019431-f934-bf05-82d4-66706049043a</td>\n",
       "<td>amplitude</td></tr><tr><td>CH65_20211201_.nwb</td>\n",
       "<td>test_group</td>\n",
       "<td>16a99d71-4d6d-a857-4b4c-2d7d00cb24c7</td>\n",
       "<td>amplitude</td></tr><tr><td>CH65_20211201_.nwb</td>\n",
       "<td>test_group</td>\n",
       "<td>1d48bf84-3a81-5d06-c3f0-28edae770348</td>\n",
       "<td>amplitude</td></tr><tr><td>CH65_20211201_.nwb</td>\n",
       "<td>test_group</td>\n",
       "<td>33d71671-63e5-0d99-0504-43d9e26ab064</td>\n",
       "<td>amplitude</td></tr><tr><td>CH65_20211201_.nwb</td>\n",
       "<td>test_group</td>\n",
       "<td>3bd88769-9b39-4d1a-4bda-b50be1c2956b</td>\n",
       "<td>amplitude</td></tr><tr><td>CH65_20211201_.nwb</td>\n",
       "<td>test_group</td>\n",
       "<td>3c7ee428-b12b-3a7d-13a7-f84f138dc511</td>\n",
       "<td>amplitude</td></tr><tr><td>CH65_20211201_.nwb</td>\n",
       "<td>test_group</td>\n",
       "<td>4845e1c1-4579-c9b7-2299-12165edeeabf</td>\n",
       "<td>amplitude</td></tr><tr><td>CH65_20211201_.nwb</td>\n",
       "<td>test_group</td>\n",
       "<td>5712ba0d-331e-1f99-2c45-f9256730e6e5</td>\n",
       "<td>amplitude</td></tr><tr><td>CH65_20211201_.nwb</td>\n",
       "<td>test_group</td>\n",
       "<td>58784fb4-44cf-5957-6ac7-1def86583c22</td>\n",
       "<td>amplitude</td></tr><tr><td>CH65_20211201_.nwb</td>\n",
       "<td>test_group</td>\n",
       "<td>5ae79d97-6a99-c4bf-204f-37bacb4c76a9</td>\n",
       "<td>amplitude</td></tr><tr><td>CH65_20211201_.nwb</td>\n",
       "<td>test_group</td>\n",
       "<td>800f080a-6da0-670e-87df-fac918545025</td>\n",
       "<td>amplitude</td> </tr> </tbody>\n",
       "        </table>\n",
       "        <p>...</p>\n",
       "        <p>Total: 44</p></div>\n",
       "        "
      ],
      "text/plain": [
       "*nwb_file_name *waveform_feat *spikesorting_ *features_para\n",
       "+------------+ +------------+ +------------+ +------------+\n",
       "CH65_20211201_ test_group     0164f4ef-8f78- amplitude     \n",
       "CH65_20211201_ test_group     09019431-f934- amplitude     \n",
       "CH65_20211201_ test_group     16a99d71-4d6d- amplitude     \n",
       "CH65_20211201_ test_group     1d48bf84-3a81- amplitude     \n",
       "CH65_20211201_ test_group     33d71671-63e5- amplitude     \n",
       "CH65_20211201_ test_group     3bd88769-9b39- amplitude     \n",
       "CH65_20211201_ test_group     3c7ee428-b12b- amplitude     \n",
       "CH65_20211201_ test_group     4845e1c1-4579- amplitude     \n",
       "CH65_20211201_ test_group     5712ba0d-331e- amplitude     \n",
       "CH65_20211201_ test_group     58784fb4-44cf- amplitude     \n",
       "CH65_20211201_ test_group     5ae79d97-6a99- amplitude     \n",
       "CH65_20211201_ test_group     800f080a-6da0- amplitude     \n",
       "   ...\n",
       " (Total: 44)"
      ]
     },
     "execution_count": 18,
     "metadata": {},
     "output_type": "execute_result"
    }
   ],
   "source": [
    "UnitWaveformFeaturesGroup.UnitFeatures & {\n",
    "    \"waveform_features_group_name\": \"test_group\"\n",
    "}"
   ]
  },
  {
   "cell_type": "code",
   "execution_count": 19,
   "metadata": {},
   "outputs": [
    {
     "data": {
      "text/html": [
       "\n",
       "    \n",
       "    <style type=\"text/css\">\n",
       "        .Relation{\n",
       "            border-collapse:collapse;\n",
       "        }\n",
       "        .Relation th{\n",
       "            background: #A0A0A0; color: #ffffff; padding:4px; border:#f0e0e0 1px solid;\n",
       "            font-weight: normal; font-family: monospace; font-size: 100%;\n",
       "        }\n",
       "        .Relation td{\n",
       "            padding:4px; border:#f0e0e0 1px solid; font-size:100%;\n",
       "        }\n",
       "        .Relation tr:nth-child(odd){\n",
       "            background: #ffffff;\n",
       "        }\n",
       "        .Relation tr:nth-child(even){\n",
       "            background: #f3f1ff;\n",
       "        }\n",
       "        /* Tooltip container */\n",
       "        .djtooltip {\n",
       "        }\n",
       "        /* Tooltip text */\n",
       "        .djtooltip .djtooltiptext {\n",
       "            visibility: hidden;\n",
       "            width: 120px;\n",
       "            background-color: black;\n",
       "            color: #fff;\n",
       "            text-align: center;\n",
       "            padding: 5px 0;\n",
       "            border-radius: 6px;\n",
       "            /* Position the tooltip text - see examples below! */\n",
       "            position: absolute;\n",
       "            z-index: 1;\n",
       "        }\n",
       "        #primary {\n",
       "            font-weight: bold;\n",
       "            color: black;\n",
       "        }\n",
       "        #nonprimary {\n",
       "            font-weight: normal;\n",
       "            color: white;\n",
       "        }\n",
       "\n",
       "        /* Show the tooltip text when you mouse over the tooltip container */\n",
       "        .djtooltip:hover .djtooltiptext {\n",
       "            visibility: visible;\n",
       "        }\n",
       "    </style>\n",
       "    \n",
       "    <b></b>\n",
       "        <div style=\"max-height:1000px;max-width:1500px;overflow:auto;\">\n",
       "        <table border=\"1\" class=\"Relation\">\n",
       "            <thead> <tr style=\"text-align: right;\"> <th> <div class=\"djtooltip\">\n",
       "                            <p id=\"primary\">trodes_pos_params_name</p>\n",
       "                            <span class=\"djtooltiptext\">name for this set of parameters</span>\n",
       "                        </div></th><th><div class=\"djtooltip\">\n",
       "                            <p id=\"nonprimary\">params</p>\n",
       "                            <span class=\"djtooltiptext\"></span>\n",
       "                        </div> </th> </tr> </thead>\n",
       "            <tbody> <tr> <td>default</td>\n",
       "<td>=BLOB=</td></tr><tr><td>default_decoding</td>\n",
       "<td>=BLOB=</td></tr><tr><td>default_led0</td>\n",
       "<td>=BLOB=</td></tr><tr><td>max-sep_80</td>\n",
       "<td>=BLOB=</td></tr><tr><td>single_led</td>\n",
       "<td>=BLOB=</td></tr><tr><td>single_led_decoding</td>\n",
       "<td>=BLOB=</td></tr><tr><td>single_led_upsampled</td>\n",
       "<td>=BLOB=</td></tr><tr><td>upsample_1000_Hz</td>\n",
       "<td>=BLOB=</td> </tr> </tbody>\n",
       "        </table>\n",
       "        \n",
       "        <p>Total: 8</p></div>\n",
       "        "
      ],
      "text/plain": [
       "*trodes_pos_pa params    \n",
       "+------------+ +--------+\n",
       "default        =BLOB=    \n",
       "default_decodi =BLOB=    \n",
       "default_led0   =BLOB=    \n",
       "max-sep_80     =BLOB=    \n",
       "single_led     =BLOB=    \n",
       "single_led_dec =BLOB=    \n",
       "single_led_ups =BLOB=    \n",
       "upsample_1000_ =BLOB=    \n",
       " (Total: 8)"
      ]
     },
     "execution_count": 19,
     "metadata": {},
     "output_type": "execute_result"
    }
   ],
   "source": [
    "import spyglass.position as sgp\n",
    "\n",
    "sgp.v1.TrodesPosParams()"
   ]
  },
  {
   "cell_type": "code",
   "execution_count": 20,
   "metadata": {},
   "outputs": [
    {
     "data": {
      "text/plain": [
       "{'max_separation': 9.0,\n",
       " 'max_speed': 300.0,\n",
       " 'position_smoothing_duration': 0.125,\n",
       " 'speed_smoothing_std_dev': 0.1,\n",
       " 'head_orient_smoothing_std_dev': 0.001,\n",
       " 'led1_is_front': 1,\n",
       " 'is_upsampled': 1,\n",
       " 'upsampling_sampling_rate': 500.0,\n",
       " 'upsampling_interpolation_method': 'linear'}"
      ]
     },
     "execution_count": 20,
     "metadata": {},
     "output_type": "execute_result"
    }
   ],
   "source": [
    "sgp.v1.TrodesPosParams().insert1(\n",
    "    {\n",
    "        \"trodes_pos_params_name\": \"default_decoding\",\n",
    "        \"params\": {\n",
    "            \"max_separation\": 9.0,\n",
    "            \"max_speed\": 300.0,\n",
    "            \"position_smoothing_duration\": 0.125,\n",
    "            \"speed_smoothing_std_dev\": 0.1,\n",
    "            \"head_orient_smoothing_std_dev\": 0.001,\n",
    "            \"led1_is_front\": 1,\n",
    "            \"is_upsampled\": 1,\n",
    "            \"upsampling_sampling_rate\": 500.0,\n",
    "            \"upsampling_interpolation_method\": \"linear\",\n",
    "        },\n",
    "    },\n",
    "    skip_duplicates=True,\n",
    ")\n",
    "\n",
    "(\n",
    "    sgp.v1.TrodesPosParams() & {\"trodes_pos_params_name\": \"default_decoding\"}\n",
    ").fetch1(\"params\")"
   ]
  },
  {
   "cell_type": "code",
   "execution_count": 21,
   "metadata": {},
   "outputs": [],
   "source": [
    "trodes_s_key = {\n",
    "    \"nwb_file_name\": nwb_copy_file_name,\n",
    "    \"interval_list_name\": \"pos 5 valid times\",\n",
    "    \"position_info_param_name\": \"default_decoding\",\n",
    "}\n",
    "# sgp.v1.TrodesPosSelection.insert1(\n",
    "#     trodes_s_key,\n",
    "#     skip_duplicates=True,\n",
    "# )\n",
    "\n",
    "# sgp.v1.TrodesPosV1.populate(trodes_s_key)\n",
    "\n",
    "# sgp.v1.TrodesPosV1 & trodes_s_key"
   ]
  },
  {
   "cell_type": "code",
   "execution_count": 22,
   "metadata": {},
   "outputs": [
    {
     "data": {
      "text/html": [
       "\n",
       "    \n",
       "    <style type=\"text/css\">\n",
       "        .Relation{\n",
       "            border-collapse:collapse;\n",
       "        }\n",
       "        .Relation th{\n",
       "            background: #A0A0A0; color: #ffffff; padding:4px; border:#f0e0e0 1px solid;\n",
       "            font-weight: normal; font-family: monospace; font-size: 100%;\n",
       "        }\n",
       "        .Relation td{\n",
       "            padding:4px; border:#f0e0e0 1px solid; font-size:100%;\n",
       "        }\n",
       "        .Relation tr:nth-child(odd){\n",
       "            background: #ffffff;\n",
       "        }\n",
       "        .Relation tr:nth-child(even){\n",
       "            background: #f3f1ff;\n",
       "        }\n",
       "        /* Tooltip container */\n",
       "        .djtooltip {\n",
       "        }\n",
       "        /* Tooltip text */\n",
       "        .djtooltip .djtooltiptext {\n",
       "            visibility: hidden;\n",
       "            width: 120px;\n",
       "            background-color: black;\n",
       "            color: #fff;\n",
       "            text-align: center;\n",
       "            padding: 5px 0;\n",
       "            border-radius: 6px;\n",
       "            /* Position the tooltip text - see examples below! */\n",
       "            position: absolute;\n",
       "            z-index: 1;\n",
       "        }\n",
       "        #primary {\n",
       "            font-weight: bold;\n",
       "            color: black;\n",
       "        }\n",
       "        #nonprimary {\n",
       "            font-weight: normal;\n",
       "            color: white;\n",
       "        }\n",
       "\n",
       "        /* Show the tooltip text when you mouse over the tooltip container */\n",
       "        .djtooltip:hover .djtooltiptext {\n",
       "            visibility: visible;\n",
       "        }\n",
       "    </style>\n",
       "    \n",
       "    <b></b>\n",
       "        <div style=\"max-height:1000px;max-width:1500px;overflow:auto;\">\n",
       "        <table border=\"1\" class=\"Relation\">\n",
       "            <thead> <tr style=\"text-align: right;\"> <th> <div class=\"djtooltip\">\n",
       "                            <p id=\"primary\">merge_id</p>\n",
       "                            <span class=\"djtooltiptext\"></span>\n",
       "                        </div></th><th><div class=\"djtooltip\">\n",
       "                            <p id=\"nonprimary\">position_info_param_name</p>\n",
       "                            <span class=\"djtooltiptext\">name for this set of parameters</span>\n",
       "                        </div></th><th><div class=\"djtooltip\">\n",
       "                            <p id=\"nonprimary\">nwb_file_name</p>\n",
       "                            <span class=\"djtooltiptext\">name of the NWB file</span>\n",
       "                        </div></th><th><div class=\"djtooltip\">\n",
       "                            <p id=\"nonprimary\">interval_list_name</p>\n",
       "                            <span class=\"djtooltiptext\">descriptive name of this interval list</span>\n",
       "                        </div> </th> </tr> </thead>\n",
       "            <tbody> <tr> <td>122c6d0f-47e2-8e9f-bce6-6408cb7b2d6d</td>\n",
       "<td>default_decoding</td>\n",
       "<td>j1620210710_.nwb</td>\n",
       "<td>pos 5 valid times</td> </tr> </tbody>\n",
       "        </table>\n",
       "        \n",
       "        <p>Total: 1</p></div>\n",
       "        "
      ],
      "text/plain": [
       "*merge_id      position_info_ nwb_file_name  interval_list_\n",
       "+------------+ +------------+ +------------+ +------------+\n",
       "122c6d0f-47e2- default_decodi j1620210710_.n pos 5 valid ti\n",
       " (Total: 1)"
      ]
     },
     "execution_count": 22,
     "metadata": {},
     "output_type": "execute_result"
    }
   ],
   "source": [
    "sgp.PositionOutput.CommonPos & trodes_s_key"
   ]
  },
  {
   "cell_type": "code",
   "execution_count": 23,
   "metadata": {},
   "outputs": [
    {
     "data": {
      "text/html": [
       "\n",
       "    \n",
       "    <style type=\"text/css\">\n",
       "        .Relation{\n",
       "            border-collapse:collapse;\n",
       "        }\n",
       "        .Relation th{\n",
       "            background: #A0A0A0; color: #ffffff; padding:4px; border:#f0e0e0 1px solid;\n",
       "            font-weight: normal; font-family: monospace; font-size: 100%;\n",
       "        }\n",
       "        .Relation td{\n",
       "            padding:4px; border:#f0e0e0 1px solid; font-size:100%;\n",
       "        }\n",
       "        .Relation tr:nth-child(odd){\n",
       "            background: #ffffff;\n",
       "        }\n",
       "        .Relation tr:nth-child(even){\n",
       "            background: #f3f1ff;\n",
       "        }\n",
       "        /* Tooltip container */\n",
       "        .djtooltip {\n",
       "        }\n",
       "        /* Tooltip text */\n",
       "        .djtooltip .djtooltiptext {\n",
       "            visibility: hidden;\n",
       "            width: 120px;\n",
       "            background-color: black;\n",
       "            color: #fff;\n",
       "            text-align: center;\n",
       "            padding: 5px 0;\n",
       "            border-radius: 6px;\n",
       "            /* Position the tooltip text - see examples below! */\n",
       "            position: absolute;\n",
       "            z-index: 1;\n",
       "        }\n",
       "        #primary {\n",
       "            font-weight: bold;\n",
       "            color: black;\n",
       "        }\n",
       "        #nonprimary {\n",
       "            font-weight: normal;\n",
       "            color: white;\n",
       "        }\n",
       "\n",
       "        /* Show the tooltip text when you mouse over the tooltip container */\n",
       "        .djtooltip:hover .djtooltiptext {\n",
       "            visibility: visible;\n",
       "        }\n",
       "    </style>\n",
       "    \n",
       "    <b></b>\n",
       "        <div style=\"max-height:1000px;max-width:1500px;overflow:auto;\">\n",
       "        <table border=\"1\" class=\"Relation\">\n",
       "            <thead> <tr style=\"text-align: right;\"> <th> <div class=\"djtooltip\">\n",
       "                            <p id=\"primary\">nwb_file_name</p>\n",
       "                            <span class=\"djtooltiptext\">name of the NWB file</span>\n",
       "                        </div></th><th><div class=\"djtooltip\">\n",
       "                            <p id=\"primary\">position_group_name</p>\n",
       "                            <span class=\"djtooltiptext\"></span>\n",
       "                        </div></th><th><div class=\"djtooltip\">\n",
       "                            <p id=\"nonprimary\">position_variables</p>\n",
       "                            <span class=\"djtooltiptext\">list of position variables to decode</span>\n",
       "                        </div> </th> </tr> </thead>\n",
       "            <tbody> <tr> <td>j1620210710_.nwb</td>\n",
       "<td>test_group</td>\n",
       "<td>=BLOB=</td> </tr> </tbody>\n",
       "        </table>\n",
       "        \n",
       "        <p>Total: 1</p></div>\n",
       "        "
      ],
      "text/plain": [
       "*nwb_file_name *position_grou position_v\n",
       "+------------+ +------------+ +--------+\n",
       "j1620210710_.n test_group     =BLOB=    \n",
       " (Total: 1)"
      ]
     },
     "execution_count": 23,
     "metadata": {},
     "output_type": "execute_result"
    }
   ],
   "source": [
    "from spyglass.decoding.v1.core import PositionGroup\n",
    "\n",
    "position_merge_ids = (sgp.PositionOutput.CommonPos & trodes_s_key).fetch(\n",
    "    \"merge_id\"\n",
    ")\n",
    "\n",
    "PositionGroup().create_group(\n",
    "    nwb_file_name=nwb_copy_file_name,\n",
    "    group_name=\"test_group\",\n",
    "    keys=[{\"pos_merge_id\": merge_id} for merge_id in position_merge_ids],\n",
    "    position_variables=[\"head_position_x\", \"head_position_y\"],\n",
    ")\n",
    "\n",
    "PositionGroup & {\n",
    "    \"nwb_file_name\": nwb_copy_file_name,\n",
    "    \"position_group_name\": \"test_group\",\n",
    "}"
   ]
  },
  {
   "cell_type": "code",
   "execution_count": 24,
   "metadata": {},
   "outputs": [
    {
     "data": {
      "text/html": [
       "\n",
       "    \n",
       "    <style type=\"text/css\">\n",
       "        .Relation{\n",
       "            border-collapse:collapse;\n",
       "        }\n",
       "        .Relation th{\n",
       "            background: #A0A0A0; color: #ffffff; padding:4px; border:#f0e0e0 1px solid;\n",
       "            font-weight: normal; font-family: monospace; font-size: 100%;\n",
       "        }\n",
       "        .Relation td{\n",
       "            padding:4px; border:#f0e0e0 1px solid; font-size:100%;\n",
       "        }\n",
       "        .Relation tr:nth-child(odd){\n",
       "            background: #ffffff;\n",
       "        }\n",
       "        .Relation tr:nth-child(even){\n",
       "            background: #f3f1ff;\n",
       "        }\n",
       "        /* Tooltip container */\n",
       "        .djtooltip {\n",
       "        }\n",
       "        /* Tooltip text */\n",
       "        .djtooltip .djtooltiptext {\n",
       "            visibility: hidden;\n",
       "            width: 120px;\n",
       "            background-color: black;\n",
       "            color: #fff;\n",
       "            text-align: center;\n",
       "            padding: 5px 0;\n",
       "            border-radius: 6px;\n",
       "            /* Position the tooltip text - see examples below! */\n",
       "            position: absolute;\n",
       "            z-index: 1;\n",
       "        }\n",
       "        #primary {\n",
       "            font-weight: bold;\n",
       "            color: black;\n",
       "        }\n",
       "        #nonprimary {\n",
       "            font-weight: normal;\n",
       "            color: white;\n",
       "        }\n",
       "\n",
       "        /* Show the tooltip text when you mouse over the tooltip container */\n",
       "        .djtooltip:hover .djtooltiptext {\n",
       "            visibility: visible;\n",
       "        }\n",
       "    </style>\n",
       "    \n",
       "    <b></b>\n",
       "        <div style=\"max-height:1000px;max-width:1500px;overflow:auto;\">\n",
       "        <table border=\"1\" class=\"Relation\">\n",
       "            <thead> <tr style=\"text-align: right;\"> <th> <div class=\"djtooltip\">\n",
       "                            <p id=\"primary\">nwb_file_name</p>\n",
       "                            <span class=\"djtooltiptext\">name of the NWB file</span>\n",
       "                        </div></th><th><div class=\"djtooltip\">\n",
       "                            <p id=\"primary\">position_group_name</p>\n",
       "                            <span class=\"djtooltiptext\"></span>\n",
       "                        </div></th><th><div class=\"djtooltip\">\n",
       "                            <p id=\"primary\">pos_merge_id</p>\n",
       "                            <span class=\"djtooltiptext\"></span>\n",
       "                        </div> </th> </tr> </thead>\n",
       "            <tbody> <tr> <td>j1620210710_.nwb</td>\n",
       "<td>test_group</td>\n",
       "<td>122c6d0f-47e2-8e9f-bce6-6408cb7b2d6d</td> </tr> </tbody>\n",
       "        </table>\n",
       "        \n",
       "        <p>Total: 1</p></div>\n",
       "        "
      ],
      "text/plain": [
       "*nwb_file_name *position_grou *pos_merge_id \n",
       "+------------+ +------------+ +------------+\n",
       "j1620210710_.n test_group     122c6d0f-47e2-\n",
       " (Total: 1)"
      ]
     },
     "execution_count": 24,
     "metadata": {},
     "output_type": "execute_result"
    }
   ],
   "source": [
    "(\n",
    "    PositionGroup.Position\n",
    "    & {\n",
    "        \"nwb_file_name\": nwb_copy_file_name,\n",
    "        \"position_group_name\": \"test_group\",\n",
    "    }\n",
    ")"
   ]
  },
  {
   "cell_type": "code",
   "execution_count": 25,
   "metadata": {},
   "outputs": [
    {
     "data": {
      "text/html": [
       "\n",
       "    \n",
       "    <style type=\"text/css\">\n",
       "        .Relation{\n",
       "            border-collapse:collapse;\n",
       "        }\n",
       "        .Relation th{\n",
       "            background: #A0A0A0; color: #ffffff; padding:4px; border:#f0e0e0 1px solid;\n",
       "            font-weight: normal; font-family: monospace; font-size: 100%;\n",
       "        }\n",
       "        .Relation td{\n",
       "            padding:4px; border:#f0e0e0 1px solid; font-size:100%;\n",
       "        }\n",
       "        .Relation tr:nth-child(odd){\n",
       "            background: #ffffff;\n",
       "        }\n",
       "        .Relation tr:nth-child(even){\n",
       "            background: #f3f1ff;\n",
       "        }\n",
       "        /* Tooltip container */\n",
       "        .djtooltip {\n",
       "        }\n",
       "        /* Tooltip text */\n",
       "        .djtooltip .djtooltiptext {\n",
       "            visibility: hidden;\n",
       "            width: 120px;\n",
       "            background-color: black;\n",
       "            color: #fff;\n",
       "            text-align: center;\n",
       "            padding: 5px 0;\n",
       "            border-radius: 6px;\n",
       "            /* Position the tooltip text - see examples below! */\n",
       "            position: absolute;\n",
       "            z-index: 1;\n",
       "        }\n",
       "        #primary {\n",
       "            font-weight: bold;\n",
       "            color: black;\n",
       "        }\n",
       "        #nonprimary {\n",
       "            font-weight: normal;\n",
       "            color: white;\n",
       "        }\n",
       "\n",
       "        /* Show the tooltip text when you mouse over the tooltip container */\n",
       "        .djtooltip:hover .djtooltiptext {\n",
       "            visibility: visible;\n",
       "        }\n",
       "    </style>\n",
       "    \n",
       "    <b></b>\n",
       "        <div style=\"max-height:1000px;max-width:1500px;overflow:auto;\">\n",
       "        <table border=\"1\" class=\"Relation\">\n",
       "            <thead> <tr style=\"text-align: right;\"> <th> <div class=\"djtooltip\">\n",
       "                            <p id=\"primary\">merge_id</p>\n",
       "                            <span class=\"djtooltiptext\"></span>\n",
       "                        </div></th><th><div class=\"djtooltip\">\n",
       "                            <p id=\"nonprimary\">source</p>\n",
       "                            <span class=\"djtooltiptext\"></span>\n",
       "                        </div> </th> </tr> </thead>\n",
       "            <tbody> <tr> <td>122c6d0f-47e2-8e9f-bce6-6408cb7b2d6d</td>\n",
       "<td>CommonPos</td> </tr> </tbody>\n",
       "        </table>\n",
       "        \n",
       "        <p>Total: 1</p></div>\n",
       "        "
      ],
      "text/plain": [
       "*merge_id      source       \n",
       "+------------+ +-----------+\n",
       "122c6d0f-47e2- CommonPos    \n",
       " (Total: 1)"
      ]
     },
     "execution_count": 25,
     "metadata": {},
     "output_type": "execute_result"
    }
   ],
   "source": [
    "pos_merge_id = (\n",
    "    PositionGroup.Position\n",
    "    & {\n",
    "        \"nwb_file_name\": nwb_copy_file_name,\n",
    "        \"position_group_name\": \"test_group\",\n",
    "    }\n",
    ").fetch1(\"pos_merge_id\")\n",
    "\n",
    "sgp.PositionOutput & {\"merge_id\": pos_merge_id}"
   ]
  },
  {
   "cell_type": "code",
   "execution_count": 26,
   "metadata": {},
   "outputs": [
    {
     "data": {
      "text/plain": [
       "(<networkx.classes.graph.Graph at 0x7f5986afee20>,\n",
       " {'track_graph_name': 'j1620210706',\n",
       "  'environment': 'spatial_bandit',\n",
       "  'node_positions': array([[179.4527997 ,  45.06356539],\n",
       "         [225.71560744, 123.25220539],\n",
       "         [184.17870421, 205.02047636],\n",
       "         [ 88.93641002, 209.70195249],\n",
       "         [ 37.85507841, 128.45589571],\n",
       "         [ 88.19751712,  45.06356539],\n",
       "         [179.63427582,  99.71153958],\n",
       "         [135.43811066, 180.45759636],\n",
       "         [ 87.45862421,  99.55227765],\n",
       "         [135.5973726 , 127.33183636]]),\n",
       "  'edges': array([[9, 6],\n",
       "         [6, 0],\n",
       "         [6, 1],\n",
       "         [9, 7],\n",
       "         [7, 2],\n",
       "         [7, 3],\n",
       "         [9, 8],\n",
       "         [8, 4],\n",
       "         [8, 5]]),\n",
       "  'linear_edge_order': [(9, 6),\n",
       "   (6, 0),\n",
       "   (6, 1),\n",
       "   (9, 7),\n",
       "   (7, 2),\n",
       "   (7, 3),\n",
       "   (9, 8),\n",
       "   (8, 4),\n",
       "   (8, 5)],\n",
       "  'linear_edge_spacing': 15,\n",
       "  'linear_edge_specialty': None,\n",
       "  'edge_map': None})"
      ]
     },
     "execution_count": 26,
     "metadata": {},
     "output_type": "execute_result"
    }
   ],
   "source": [
    "from spyglass.linearization.v0.main import TrackGraph\n",
    "from spyglass.linearization.v0.main import IntervalLinearizedPosition\n",
    "\n",
    "linearization_key = {\n",
    "    \"position_info_param_name\": \"default_decoding\",\n",
    "    \"nwb_file_name\": nwb_copy_file_name,\n",
    "    \"interval_list_name\": trodes_s_key[\"interval_list_name\"],\n",
    "    \"linearization_param_name\": \"default\",\n",
    "}\n",
    "\n",
    "\n",
    "track_graph_name = (IntervalLinearizedPosition() & linearization_key).fetch1(\n",
    "    \"track_graph_name\"\n",
    ")\n",
    "track_graph = (\n",
    "    TrackGraph() & {\"track_graph_name\": track_graph_name}\n",
    ").get_networkx_track_graph()\n",
    "track_graph_params = (\n",
    "    TrackGraph() & {\"track_graph_name\": track_graph_name}\n",
    ").fetch1()\n",
    "\n",
    "track_graph, track_graph_params"
   ]
  },
  {
   "cell_type": "code",
   "execution_count": 27,
   "metadata": {},
   "outputs": [
    {
     "data": {
      "text/plain": [
       "{'decoding_param_name': 'j1620210710_contfrag_clusterless_1D',\n",
       " 'decoding_params': {'discrete_initial_conditions': array([0.5, 0.5]),\n",
       "  'continuous_initial_conditions_types': [UniformInitialConditions(),\n",
       "   UniformInitialConditions()],\n",
       "  'discrete_transition_concentration': 1.1,\n",
       "  'discrete_transition_stickiness': array([0., 0.]),\n",
       "  'discrete_transition_regularization': 1e-10,\n",
       "  'discrete_transition_type': DiscreteStationaryDiagonal(diagonal_values=array([0.98, 0.98])),\n",
       "  'continuous_transition_types': [[RandomWalk(environment_name='', movement_var=6.0, movement_mean=0.0, use_manifold_distance=False, direction=None),\n",
       "    Uniform(environment_name='', environment2_name=None)],\n",
       "   [Uniform(environment_name='', environment2_name=None),\n",
       "    Uniform(environment_name='', environment2_name=None)]],\n",
       "  'environments': [Environment(environment_name='', place_bin_size=2.0, track_graph=<networkx.classes.graph.Graph object at 0x7f5d00fce190>, edge_order=[(9, 6), (6, 0), (6, 1), (9, 7), (7, 2), (7, 3), (9, 8), (8, 4), (8, 5)], edge_spacing=15, is_track_interior=None, position_range=None, infer_track_interior=True, fill_holes=False, dilate=False, bin_count_threshold=0)],\n",
       "  'infer_track_interior': True,\n",
       "  'observation_models': [ObservationModel(environment_name='', encoding_group=0, is_local=False, is_no_spike=False),\n",
       "   ObservationModel(environment_name='', encoding_group=0, is_local=False, is_no_spike=False)],\n",
       "  'state_names': ['Continuous', 'Fragmented'],\n",
       "  'sampling_frequency': 500.0,\n",
       "  'no_spike_rate': 1e-10,\n",
       "  'clusterless_algorithm': 'clusterless_kde',\n",
       "  'clusterless_algorithm_params': {'waveform_std': 24.0,\n",
       "   'position_std': 6.0,\n",
       "   'block_size': 10000}},\n",
       " 'decoding_kwargs': None}"
      ]
     },
     "execution_count": 27,
     "metadata": {},
     "output_type": "execute_result"
    }
   ],
   "source": [
    "from spyglass.decoding.v1.core import DecodingParameters\n",
    "from non_local_detector import ContFragClusterlessClassifier\n",
    "from non_local_detector.environment import Environment\n",
    "\n",
    "decoding_param_name = (\n",
    "    nwb_copy_file_name.strip(\"_.nwb\") + \"_contfrag_clusterless_1D\"\n",
    ")\n",
    "decoding_params = ContFragClusterlessClassifier(\n",
    "    environments=Environment(\n",
    "        place_bin_size=2.0,\n",
    "        track_graph=track_graph,\n",
    "        edge_order=track_graph_params[\"linear_edge_order\"],\n",
    "        edge_spacing=track_graph_params[\"linear_edge_spacing\"],\n",
    "    )\n",
    ")\n",
    "\n",
    "DecodingParameters.insert1(\n",
    "    {\n",
    "        \"decoding_param_name\": decoding_param_name,\n",
    "        \"decoding_params\": decoding_params,\n",
    "    },\n",
    "    skip_duplicates=True,\n",
    ")\n",
    "\n",
    "(DecodingParameters & {\"decoding_param_name\": decoding_param_name}).fetch1()"
   ]
  },
  {
   "cell_type": "code",
   "execution_count": 28,
   "metadata": {},
   "outputs": [
    {
     "data": {
      "text/html": [
       "\n",
       "    \n",
       "    <style type=\"text/css\">\n",
       "        .Relation{\n",
       "            border-collapse:collapse;\n",
       "        }\n",
       "        .Relation th{\n",
       "            background: #A0A0A0; color: #ffffff; padding:4px; border:#f0e0e0 1px solid;\n",
       "            font-weight: normal; font-family: monospace; font-size: 100%;\n",
       "        }\n",
       "        .Relation td{\n",
       "            padding:4px; border:#f0e0e0 1px solid; font-size:100%;\n",
       "        }\n",
       "        .Relation tr:nth-child(odd){\n",
       "            background: #ffffff;\n",
       "        }\n",
       "        .Relation tr:nth-child(even){\n",
       "            background: #f3f1ff;\n",
       "        }\n",
       "        /* Tooltip container */\n",
       "        .djtooltip {\n",
       "        }\n",
       "        /* Tooltip text */\n",
       "        .djtooltip .djtooltiptext {\n",
       "            visibility: hidden;\n",
       "            width: 120px;\n",
       "            background-color: black;\n",
       "            color: #fff;\n",
       "            text-align: center;\n",
       "            padding: 5px 0;\n",
       "            border-radius: 6px;\n",
       "            /* Position the tooltip text - see examples below! */\n",
       "            position: absolute;\n",
       "            z-index: 1;\n",
       "        }\n",
       "        #primary {\n",
       "            font-weight: bold;\n",
       "            color: black;\n",
       "        }\n",
       "        #nonprimary {\n",
       "            font-weight: normal;\n",
       "            color: white;\n",
       "        }\n",
       "\n",
       "        /* Show the tooltip text when you mouse over the tooltip container */\n",
       "        .djtooltip:hover .djtooltiptext {\n",
       "            visibility: visible;\n",
       "        }\n",
       "    </style>\n",
       "    \n",
       "    <b></b>\n",
       "        <div style=\"max-height:1000px;max-width:1500px;overflow:auto;\">\n",
       "        <table border=\"1\" class=\"Relation\">\n",
       "            <thead> <tr style=\"text-align: right;\"> <th> <div class=\"djtooltip\">\n",
       "                            <p id=\"primary\">nwb_file_name</p>\n",
       "                            <span class=\"djtooltiptext\">name of the NWB file</span>\n",
       "                        </div></th><th><div class=\"djtooltip\">\n",
       "                            <p id=\"primary\">waveform_features_group_name</p>\n",
       "                            <span class=\"djtooltiptext\"></span>\n",
       "                        </div></th><th><div class=\"djtooltip\">\n",
       "                            <p id=\"primary\">position_group_name</p>\n",
       "                            <span class=\"djtooltiptext\"></span>\n",
       "                        </div></th><th><div class=\"djtooltip\">\n",
       "                            <p id=\"primary\">decoding_param_name</p>\n",
       "                            <span class=\"djtooltiptext\">a name for this set of parameters</span>\n",
       "                        </div></th><th><div class=\"djtooltip\">\n",
       "                            <p id=\"primary\">encoding_interval</p>\n",
       "                            <span class=\"djtooltiptext\">descriptive name of this interval list</span>\n",
       "                        </div></th><th><div class=\"djtooltip\">\n",
       "                            <p id=\"primary\">decoding_interval</p>\n",
       "                            <span class=\"djtooltiptext\">descriptive name of this interval list</span>\n",
       "                        </div></th><th><div class=\"djtooltip\">\n",
       "                            <p id=\"primary\">estimate_decoding_params</p>\n",
       "                            <span class=\"djtooltiptext\">whether to estimate the decoding parameters</span>\n",
       "                        </div> </th> </tr> </thead>\n",
       "            <tbody> <tr> <td>j1620210710_.nwb</td>\n",
       "<td>test_group</td>\n",
       "<td>test_group</td>\n",
       "<td>contfrag_clusterless_0.5.13</td>\n",
       "<td>06_r3 noPrePostTrialTimes</td>\n",
       "<td>06_r3 noPrePostTrialTimes</td>\n",
       "<td>1</td></tr><tr><td>CH65_20211125_.nwb</td>\n",
       "<td>ch65_group_25_tet3</td>\n",
       "<td>pos 0 valid times</td>\n",
       "<td>contfrag_clusterless_6track</td>\n",
       "<td>raw data valid times</td>\n",
       "<td>raw data valid times</td>\n",
       "<td>1</td></tr><tr><td>CH65_20211127_.nwb</td>\n",
       "<td>CH65_20211127__50to64_group</td>\n",
       "<td>pos 0 valid times</td>\n",
       "<td>contfrag_clusterless_6track</td>\n",
       "<td>raw data valid times</td>\n",
       "<td>raw data valid times</td>\n",
       "<td>0</td></tr><tr><td>CH65_20211127_.nwb</td>\n",
       "<td>CH65_20211127__7tets_group</td>\n",
       "<td>pos 0 valid times</td>\n",
       "<td>contfrag_clusterless_6track</td>\n",
       "<td>raw data valid times</td>\n",
       "<td>raw data valid times</td>\n",
       "<td>0</td></tr><tr><td>CH65_20211127_.nwb</td>\n",
       "<td>CH65_20211127__alltets_group</td>\n",
       "<td>pos 0 valid times</td>\n",
       "<td>contfrag_clusterless_6track</td>\n",
       "<td>raw data valid times</td>\n",
       "<td>raw data valid times</td>\n",
       "<td>1</td></tr><tr><td>CH65_20211127_.nwb</td>\n",
       "<td>CH65_20211127__mod1tets_group</td>\n",
       "<td>pos 0 valid times</td>\n",
       "<td>contfrag_clusterless_6track</td>\n",
       "<td>raw data valid times</td>\n",
       "<td>raw data valid times</td>\n",
       "<td>0</td></tr><tr><td>CH65_20211127_.nwb</td>\n",
       "<td>CH65_20211127__mod1tets_group</td>\n",
       "<td>pos 0 valid times</td>\n",
       "<td>contfrag_clusterless_6track</td>\n",
       "<td>raw data valid times</td>\n",
       "<td>raw data valid times</td>\n",
       "<td>1</td></tr><tr><td>CH65_20211127_.nwb</td>\n",
       "<td>CH65_20211127__modtets_group</td>\n",
       "<td>pos 0 valid times</td>\n",
       "<td>contfrag_clusterless_6track</td>\n",
       "<td>raw data valid times</td>\n",
       "<td>raw data valid times</td>\n",
       "<td>1</td></tr><tr><td>CH65_20211201_.nwb</td>\n",
       "<td>scn2a_group</td>\n",
       "<td>pos 0 valid times</td>\n",
       "<td>contfrag_clusterless_6track</td>\n",
       "<td>pos 0 valid times</td>\n",
       "<td>raw data valid times</td>\n",
       "<td>1</td></tr><tr><td>CH65_20211201_.nwb</td>\n",
       "<td>scn2a_group</td>\n",
       "<td>pos 0 valid times</td>\n",
       "<td>contfrag_clusterless_6track</td>\n",
       "<td>raw data valid times</td>\n",
       "<td>raw data valid times</td>\n",
       "<td>1</td></tr><tr><td>CH65_20211201_.nwb</td>\n",
       "<td>test_group</td>\n",
       "<td>pos 0 valid times</td>\n",
       "<td>contfrag_clusterless_6track</td>\n",
       "<td>raw data valid times</td>\n",
       "<td>raw data valid times</td>\n",
       "<td>0</td></tr><tr><td>CH65_20211201_.nwb</td>\n",
       "<td>test_group</td>\n",
       "<td>pos 0 valid times</td>\n",
       "<td>contfrag_clusterless_6track</td>\n",
       "<td>raw data valid times</td>\n",
       "<td>raw data valid times</td>\n",
       "<td>1</td> </tr> </tbody>\n",
       "        </table>\n",
       "        <p>...</p>\n",
       "        <p>Total: 17</p></div>\n",
       "        "
      ],
      "text/plain": [
       "*nwb_file_name *waveform_feat *position_grou *decoding_para *encoding_inte *decoding_inte *estimate_deco\n",
       "+------------+ +------------+ +------------+ +------------+ +------------+ +------------+ +------------+\n",
       "j1620210710_.n test_group     test_group     contfrag_clust 06_r3 noPrePos 06_r3 noPrePos 1             \n",
       "CH65_20211125_ ch65_group_25_ pos 0 valid ti contfrag_clust raw data valid raw data valid 1             \n",
       "CH65_20211127_ CH65_20211127_ pos 0 valid ti contfrag_clust raw data valid raw data valid 0             \n",
       "CH65_20211127_ CH65_20211127_ pos 0 valid ti contfrag_clust raw data valid raw data valid 0             \n",
       "CH65_20211127_ CH65_20211127_ pos 0 valid ti contfrag_clust raw data valid raw data valid 1             \n",
       "CH65_20211127_ CH65_20211127_ pos 0 valid ti contfrag_clust raw data valid raw data valid 0             \n",
       "CH65_20211127_ CH65_20211127_ pos 0 valid ti contfrag_clust raw data valid raw data valid 1             \n",
       "CH65_20211127_ CH65_20211127_ pos 0 valid ti contfrag_clust raw data valid raw data valid 1             \n",
       "CH65_20211201_ scn2a_group    pos 0 valid ti contfrag_clust pos 0 valid ti raw data valid 1             \n",
       "CH65_20211201_ scn2a_group    pos 0 valid ti contfrag_clust raw data valid raw data valid 1             \n",
       "CH65_20211201_ test_group     pos 0 valid ti contfrag_clust raw data valid raw data valid 0             \n",
       "CH65_20211201_ test_group     pos 0 valid ti contfrag_clust raw data valid raw data valid 1             \n",
       "   ...\n",
       " (Total: 17)"
      ]
     },
     "execution_count": 28,
     "metadata": {},
     "output_type": "execute_result"
    }
   ],
   "source": [
    "from spyglass.decoding.v1.clusterless import ClusterlessDecodingSelection\n",
    "\n",
    "ClusterlessDecodingSelection()"
   ]
  },
  {
   "cell_type": "code",
   "execution_count": 29,
   "metadata": {},
   "outputs": [
    {
     "data": {
      "text/html": [
       "\n",
       "    \n",
       "    <style type=\"text/css\">\n",
       "        .Relation{\n",
       "            border-collapse:collapse;\n",
       "        }\n",
       "        .Relation th{\n",
       "            background: #A0A0A0; color: #ffffff; padding:4px; border:#f0e0e0 1px solid;\n",
       "            font-weight: normal; font-family: monospace; font-size: 100%;\n",
       "        }\n",
       "        .Relation td{\n",
       "            padding:4px; border:#f0e0e0 1px solid; font-size:100%;\n",
       "        }\n",
       "        .Relation tr:nth-child(odd){\n",
       "            background: #ffffff;\n",
       "        }\n",
       "        .Relation tr:nth-child(even){\n",
       "            background: #f3f1ff;\n",
       "        }\n",
       "        /* Tooltip container */\n",
       "        .djtooltip {\n",
       "        }\n",
       "        /* Tooltip text */\n",
       "        .djtooltip .djtooltiptext {\n",
       "            visibility: hidden;\n",
       "            width: 120px;\n",
       "            background-color: black;\n",
       "            color: #fff;\n",
       "            text-align: center;\n",
       "            padding: 5px 0;\n",
       "            border-radius: 6px;\n",
       "            /* Position the tooltip text - see examples below! */\n",
       "            position: absolute;\n",
       "            z-index: 1;\n",
       "        }\n",
       "        #primary {\n",
       "            font-weight: bold;\n",
       "            color: black;\n",
       "        }\n",
       "        #nonprimary {\n",
       "            font-weight: normal;\n",
       "            color: white;\n",
       "        }\n",
       "\n",
       "        /* Show the tooltip text when you mouse over the tooltip container */\n",
       "        .djtooltip:hover .djtooltiptext {\n",
       "            visibility: visible;\n",
       "        }\n",
       "    </style>\n",
       "    \n",
       "    <b></b>\n",
       "        <div style=\"max-height:1000px;max-width:1500px;overflow:auto;\">\n",
       "        <table border=\"1\" class=\"Relation\">\n",
       "            <thead> <tr style=\"text-align: right;\"> <th> <div class=\"djtooltip\">\n",
       "                            <p id=\"primary\">nwb_file_name</p>\n",
       "                            <span class=\"djtooltiptext\">name of the NWB file</span>\n",
       "                        </div></th><th><div class=\"djtooltip\">\n",
       "                            <p id=\"primary\">waveform_features_group_name</p>\n",
       "                            <span class=\"djtooltiptext\"></span>\n",
       "                        </div></th><th><div class=\"djtooltip\">\n",
       "                            <p id=\"primary\">position_group_name</p>\n",
       "                            <span class=\"djtooltiptext\"></span>\n",
       "                        </div></th><th><div class=\"djtooltip\">\n",
       "                            <p id=\"primary\">decoding_param_name</p>\n",
       "                            <span class=\"djtooltiptext\">a name for this set of parameters</span>\n",
       "                        </div></th><th><div class=\"djtooltip\">\n",
       "                            <p id=\"primary\">encoding_interval</p>\n",
       "                            <span class=\"djtooltiptext\">descriptive name of this interval list</span>\n",
       "                        </div></th><th><div class=\"djtooltip\">\n",
       "                            <p id=\"primary\">decoding_interval</p>\n",
       "                            <span class=\"djtooltiptext\">descriptive name of this interval list</span>\n",
       "                        </div></th><th><div class=\"djtooltip\">\n",
       "                            <p id=\"primary\">estimate_decoding_params</p>\n",
       "                            <span class=\"djtooltiptext\">whether to estimate the decoding parameters</span>\n",
       "                        </div> </th> </tr> </thead>\n",
       "            <tbody> <tr> <td>j1620210710_.nwb</td>\n",
       "<td>test_group</td>\n",
       "<td>test_group</td>\n",
       "<td>j1620210710_contfrag_clusterless_1D</td>\n",
       "<td>06_r3 noPrePostTrialTimes</td>\n",
       "<td>06_r3 noPrePostTrialTimes</td>\n",
       "<td>1</td> </tr> </tbody>\n",
       "        </table>\n",
       "        \n",
       "        <p>Total: 1</p></div>\n",
       "        "
      ],
      "text/plain": [
       "*nwb_file_name *waveform_feat *position_grou *decoding_para *encoding_inte *decoding_inte *estimate_deco\n",
       "+------------+ +------------+ +------------+ +------------+ +------------+ +------------+ +------------+\n",
       "j1620210710_.n test_group     test_group     j1620210710_co 06_r3 noPrePos 06_r3 noPrePos 1             \n",
       " (Total: 1)"
      ]
     },
     "execution_count": 29,
     "metadata": {},
     "output_type": "execute_result"
    }
   ],
   "source": [
    "selection_key = {\n",
    "    \"waveform_features_group_name\": \"test_group\",\n",
    "    \"position_group_name\": \"test_group\",\n",
    "    \"decoding_param_name\": decoding_param_name,\n",
    "    \"nwb_file_name\": nwb_copy_file_name,\n",
    "    \"encoding_interval\": \"06_r3 noPrePostTrialTimes\",\n",
    "    \"decoding_interval\": \"06_r3 noPrePostTrialTimes\",\n",
    "    \"estimate_decoding_params\": True,\n",
    "}\n",
    "\n",
    "ClusterlessDecodingSelection.insert1(\n",
    "    selection_key,\n",
    "    skip_duplicates=True,\n",
    ")\n",
    "\n",
    "ClusterlessDecodingSelection & selection_key"
   ]
  },
  {
   "cell_type": "code",
   "execution_count": 30,
   "metadata": {},
   "outputs": [
    {
     "name": "stderr",
     "output_type": "stream",
     "text": [
      "2024-02-08 13:54:05.403529: W external/xla/xla/pjrt/gpu/gpu_helpers.cc:63] Unable to enable peer access between GPUs 0 and 9; status: INTERNAL: failed to enable peer access from 0x7f55f4624c70 to 0x7f55e8624b00: CUDA_ERROR_TOO_MANY_PEERS: peer mapping resources exhausted\n",
      "2024-02-08 13:54:05.404271: W external/xla/xla/pjrt/gpu/gpu_helpers.cc:63] Unable to enable peer access between GPUs 1 and 9; status: INTERNAL: failed to enable peer access from 0x7f5604625640 to 0x7f55e8624b00: CUDA_ERROR_TOO_MANY_PEERS: peer mapping resources exhausted\n",
      "2024-02-08 13:54:05.404868: W external/xla/xla/pjrt/gpu/gpu_helpers.cc:63] Unable to enable peer access between GPUs 2 and 9; status: INTERNAL: failed to enable peer access from 0x7f5600638ee0 to 0x7f55e8624b00: CUDA_ERROR_TOO_MANY_PEERS: peer mapping resources exhausted\n",
      "2024-02-08 13:54:05.405375: W external/xla/xla/pjrt/gpu/gpu_helpers.cc:63] Unable to enable peer access between GPUs 3 and 9; status: INTERNAL: failed to enable peer access from 0x7f5618624ae0 to 0x7f55e8624b00: CUDA_ERROR_TOO_MANY_PEERS: peer mapping resources exhausted\n",
      "2024-02-08 13:54:05.405805: W external/xla/xla/pjrt/gpu/gpu_helpers.cc:63] Unable to enable peer access between GPUs 4 and 9; status: INTERNAL: failed to enable peer access from 0x7f55f07d6a30 to 0x7f55e8624b00: CUDA_ERROR_TOO_MANY_PEERS: peer mapping resources exhausted\n",
      "2024-02-08 13:54:05.406150: W external/xla/xla/pjrt/gpu/gpu_helpers.cc:63] Unable to enable peer access between GPUs 5 and 9; status: INTERNAL: failed to enable peer access from 0x7f56106276f0 to 0x7f55e8624b00: CUDA_ERROR_TOO_MANY_PEERS: peer mapping resources exhausted\n",
      "2024-02-08 13:54:05.406400: W external/xla/xla/pjrt/gpu/gpu_helpers.cc:63] Unable to enable peer access between GPUs 6 and 9; status: INTERNAL: failed to enable peer access from 0x7f5608625170 to 0x7f55e8624b00: CUDA_ERROR_TOO_MANY_PEERS: peer mapping resources exhausted\n",
      "2024-02-08 13:54:05.406569: W external/xla/xla/pjrt/gpu/gpu_helpers.cc:63] Unable to enable peer access between GPUs 7 and 9; status: INTERNAL: failed to enable peer access from 0x7f55ec625340 to 0x7f55e8624b00: CUDA_ERROR_TOO_MANY_PEERS: peer mapping resources exhausted\n",
      "2024-02-08 13:54:05.406654: W external/xla/xla/pjrt/gpu/gpu_helpers.cc:63] Unable to enable peer access between GPUs 8 and 9; status: INTERNAL: failed to enable peer access from 0x7f55f8624df0 to 0x7f55e8624b00: CUDA_ERROR_TOO_MANY_PEERS: peer mapping resources exhausted\n",
      "2024-02-08 13:54:05.406727: W external/xla/xla/pjrt/gpu/gpu_helpers.cc:63] Unable to enable peer access between GPUs 9 and 0; status: INTERNAL: failed to enable peer access from 0x7f55e8624b00 to 0x7f55f4624c70: CUDA_ERROR_TOO_MANY_PEERS: peer mapping resources exhausted\n",
      "2024-02-08 13:54:05.406800: W external/xla/xla/pjrt/gpu/gpu_helpers.cc:63] Unable to enable peer access between GPUs 9 and 1; status: INTERNAL: failed to enable peer access from 0x7f55e8624b00 to 0x7f5604625640: CUDA_ERROR_TOO_MANY_PEERS: peer mapping resources exhausted\n",
      "2024-02-08 13:54:05.406879: W external/xla/xla/pjrt/gpu/gpu_helpers.cc:63] Unable to enable peer access between GPUs 9 and 2; status: INTERNAL: failed to enable peer access from 0x7f55e8624b00 to 0x7f5600638ee0: CUDA_ERROR_TOO_MANY_PEERS: peer mapping resources exhausted\n",
      "2024-02-08 13:54:05.406951: W external/xla/xla/pjrt/gpu/gpu_helpers.cc:63] Unable to enable peer access between GPUs 9 and 3; status: INTERNAL: failed to enable peer access from 0x7f55e8624b00 to 0x7f5618624ae0: CUDA_ERROR_TOO_MANY_PEERS: peer mapping resources exhausted\n",
      "2024-02-08 13:54:05.407022: W external/xla/xla/pjrt/gpu/gpu_helpers.cc:63] Unable to enable peer access between GPUs 9 and 4; status: INTERNAL: failed to enable peer access from 0x7f55e8624b00 to 0x7f55f07d6a30: CUDA_ERROR_TOO_MANY_PEERS: peer mapping resources exhausted\n",
      "2024-02-08 13:54:05.407092: W external/xla/xla/pjrt/gpu/gpu_helpers.cc:63] Unable to enable peer access between GPUs 9 and 5; status: INTERNAL: failed to enable peer access from 0x7f55e8624b00 to 0x7f56106276f0: CUDA_ERROR_TOO_MANY_PEERS: peer mapping resources exhausted\n",
      "2024-02-08 13:54:05.407165: W external/xla/xla/pjrt/gpu/gpu_helpers.cc:63] Unable to enable peer access between GPUs 9 and 6; status: INTERNAL: failed to enable peer access from 0x7f55e8624b00 to 0x7f5608625170: CUDA_ERROR_TOO_MANY_PEERS: peer mapping resources exhausted\n",
      "2024-02-08 13:54:05.407238: W external/xla/xla/pjrt/gpu/gpu_helpers.cc:63] Unable to enable peer access between GPUs 9 and 7; status: INTERNAL: failed to enable peer access from 0x7f55e8624b00 to 0x7f55ec625340: CUDA_ERROR_TOO_MANY_PEERS: peer mapping resources exhausted\n",
      "2024-02-08 13:54:05.407310: W external/xla/xla/pjrt/gpu/gpu_helpers.cc:63] Unable to enable peer access between GPUs 9 and 8; status: INTERNAL: failed to enable peer access from 0x7f55e8624b00 to 0x7f55f8624df0: CUDA_ERROR_TOO_MANY_PEERS: peer mapping resources exhausted\n"
     ]
    },
    {
     "data": {
      "text/plain": [
       "gpu(id=4)"
      ]
     },
     "execution_count": 30,
     "metadata": {},
     "output_type": "execute_result"
    }
   ],
   "source": [
    "import jax\n",
    "\n",
    "device_id = 4\n",
    "device = jax.devices()[device_id]\n",
    "jax.config.update(\"jax_default_device\", device)\n",
    "device"
   ]
  },
  {
   "cell_type": "code",
   "execution_count": 31,
   "metadata": {},
   "outputs": [],
   "source": [
    "from spyglass.decoding.v1.clusterless import ClusterlessDecodingV1\n",
    "\n",
    "ClusterlessDecodingV1.populate(selection_key, processes=None)"
   ]
  },
  {
   "cell_type": "code",
   "execution_count": 35,
   "metadata": {},
   "outputs": [
    {
     "data": {
      "text/html": [
       "\n",
       "    \n",
       "    <style type=\"text/css\">\n",
       "        .Relation{\n",
       "            border-collapse:collapse;\n",
       "        }\n",
       "        .Relation th{\n",
       "            background: #A0A0A0; color: #ffffff; padding:4px; border:#f0e0e0 1px solid;\n",
       "            font-weight: normal; font-family: monospace; font-size: 100%;\n",
       "        }\n",
       "        .Relation td{\n",
       "            padding:4px; border:#f0e0e0 1px solid; font-size:100%;\n",
       "        }\n",
       "        .Relation tr:nth-child(odd){\n",
       "            background: #ffffff;\n",
       "        }\n",
       "        .Relation tr:nth-child(even){\n",
       "            background: #f3f1ff;\n",
       "        }\n",
       "        /* Tooltip container */\n",
       "        .djtooltip {\n",
       "        }\n",
       "        /* Tooltip text */\n",
       "        .djtooltip .djtooltiptext {\n",
       "            visibility: hidden;\n",
       "            width: 120px;\n",
       "            background-color: black;\n",
       "            color: #fff;\n",
       "            text-align: center;\n",
       "            padding: 5px 0;\n",
       "            border-radius: 6px;\n",
       "            /* Position the tooltip text - see examples below! */\n",
       "            position: absolute;\n",
       "            z-index: 1;\n",
       "        }\n",
       "        #primary {\n",
       "            font-weight: bold;\n",
       "            color: black;\n",
       "        }\n",
       "        #nonprimary {\n",
       "            font-weight: normal;\n",
       "            color: white;\n",
       "        }\n",
       "\n",
       "        /* Show the tooltip text when you mouse over the tooltip container */\n",
       "        .djtooltip:hover .djtooltiptext {\n",
       "            visibility: visible;\n",
       "        }\n",
       "    </style>\n",
       "    \n",
       "    <b></b>\n",
       "        <div style=\"max-height:1000px;max-width:1500px;overflow:auto;\">\n",
       "        <table border=\"1\" class=\"Relation\">\n",
       "            <thead> <tr style=\"text-align: right;\"> <th> <div class=\"djtooltip\">\n",
       "                            <p id=\"primary\">nwb_file_name</p>\n",
       "                            <span class=\"djtooltiptext\">name of the NWB file</span>\n",
       "                        </div></th><th><div class=\"djtooltip\">\n",
       "                            <p id=\"primary\">waveform_features_group_name</p>\n",
       "                            <span class=\"djtooltiptext\"></span>\n",
       "                        </div></th><th><div class=\"djtooltip\">\n",
       "                            <p id=\"primary\">position_group_name</p>\n",
       "                            <span class=\"djtooltiptext\"></span>\n",
       "                        </div></th><th><div class=\"djtooltip\">\n",
       "                            <p id=\"primary\">decoding_param_name</p>\n",
       "                            <span class=\"djtooltiptext\">a name for this set of parameters</span>\n",
       "                        </div></th><th><div class=\"djtooltip\">\n",
       "                            <p id=\"primary\">encoding_interval</p>\n",
       "                            <span class=\"djtooltiptext\">descriptive name of this interval list</span>\n",
       "                        </div></th><th><div class=\"djtooltip\">\n",
       "                            <p id=\"primary\">decoding_interval</p>\n",
       "                            <span class=\"djtooltiptext\">descriptive name of this interval list</span>\n",
       "                        </div></th><th><div class=\"djtooltip\">\n",
       "                            <p id=\"primary\">estimate_decoding_params</p>\n",
       "                            <span class=\"djtooltiptext\">whether to estimate the decoding parameters</span>\n",
       "                        </div></th><th><div class=\"djtooltip\">\n",
       "                            <p id=\"nonprimary\">results_path</p>\n",
       "                            <span class=\"djtooltiptext\">path to the results file</span>\n",
       "                        </div></th><th><div class=\"djtooltip\">\n",
       "                            <p id=\"nonprimary\">classifier_path</p>\n",
       "                            <span class=\"djtooltiptext\">path to the classifier file</span>\n",
       "                        </div> </th> </tr> </thead>\n",
       "            <tbody> <tr> <td>j1620210710_.nwb</td>\n",
       "<td>test_group</td>\n",
       "<td>test_group</td>\n",
       "<td>j1620210710_contfrag_clusterless_1D</td>\n",
       "<td>06_r3 noPrePostTrialTimes</td>\n",
       "<td>06_r3 noPrePostTrialTimes</td>\n",
       "<td>1</td>\n",
       "<td>=BLOB=</td>\n",
       "<td>=BLOB=</td> </tr> </tbody>\n",
       "        </table>\n",
       "        \n",
       "        <p>Total: 1</p></div>\n",
       "        "
      ],
      "text/plain": [
       "*nwb_file_name *waveform_feat *position_grou *decoding_para *encoding_inte *decoding_inte *estimate_deco results_pa classifier\n",
       "+------------+ +------------+ +------------+ +------------+ +------------+ +------------+ +------------+ +--------+ +--------+\n",
       "j1620210710_.n test_group     test_group     j1620210710_co 06_r3 noPrePos 06_r3 noPrePos 1              =BLOB=     =BLOB=    \n",
       " (Total: 1)"
      ]
     },
     "execution_count": 35,
     "metadata": {},
     "output_type": "execute_result"
    }
   ],
   "source": [
    "ClusterlessDecodingV1()"
   ]
  },
  {
   "cell_type": "code",
   "execution_count": 36,
   "metadata": {},
   "outputs": [
    {
     "data": {
      "text/html": [
       "\n",
       "    \n",
       "    <style type=\"text/css\">\n",
       "        .Relation{\n",
       "            border-collapse:collapse;\n",
       "        }\n",
       "        .Relation th{\n",
       "            background: #A0A0A0; color: #ffffff; padding:4px; border:#f0e0e0 1px solid;\n",
       "            font-weight: normal; font-family: monospace; font-size: 100%;\n",
       "        }\n",
       "        .Relation td{\n",
       "            padding:4px; border:#f0e0e0 1px solid; font-size:100%;\n",
       "        }\n",
       "        .Relation tr:nth-child(odd){\n",
       "            background: #ffffff;\n",
       "        }\n",
       "        .Relation tr:nth-child(even){\n",
       "            background: #f3f1ff;\n",
       "        }\n",
       "        /* Tooltip container */\n",
       "        .djtooltip {\n",
       "        }\n",
       "        /* Tooltip text */\n",
       "        .djtooltip .djtooltiptext {\n",
       "            visibility: hidden;\n",
       "            width: 120px;\n",
       "            background-color: black;\n",
       "            color: #fff;\n",
       "            text-align: center;\n",
       "            padding: 5px 0;\n",
       "            border-radius: 6px;\n",
       "            /* Position the tooltip text - see examples below! */\n",
       "            position: absolute;\n",
       "            z-index: 1;\n",
       "        }\n",
       "        #primary {\n",
       "            font-weight: bold;\n",
       "            color: black;\n",
       "        }\n",
       "        #nonprimary {\n",
       "            font-weight: normal;\n",
       "            color: white;\n",
       "        }\n",
       "\n",
       "        /* Show the tooltip text when you mouse over the tooltip container */\n",
       "        .djtooltip:hover .djtooltiptext {\n",
       "            visibility: visible;\n",
       "        }\n",
       "    </style>\n",
       "    \n",
       "    <b></b>\n",
       "        <div style=\"max-height:1000px;max-width:1500px;overflow:auto;\">\n",
       "        <table border=\"1\" class=\"Relation\">\n",
       "            <thead> <tr style=\"text-align: right;\"> <th> <div class=\"djtooltip\">\n",
       "                            <p id=\"primary\">merge_id</p>\n",
       "                            <span class=\"djtooltiptext\"></span>\n",
       "                        </div></th><th><div class=\"djtooltip\">\n",
       "                            <p id=\"nonprimary\">nwb_file_name</p>\n",
       "                            <span class=\"djtooltiptext\">name of the NWB file</span>\n",
       "                        </div></th><th><div class=\"djtooltip\">\n",
       "                            <p id=\"nonprimary\">waveform_features_group_name</p>\n",
       "                            <span class=\"djtooltiptext\"></span>\n",
       "                        </div></th><th><div class=\"djtooltip\">\n",
       "                            <p id=\"nonprimary\">position_group_name</p>\n",
       "                            <span class=\"djtooltiptext\"></span>\n",
       "                        </div></th><th><div class=\"djtooltip\">\n",
       "                            <p id=\"nonprimary\">decoding_param_name</p>\n",
       "                            <span class=\"djtooltiptext\">a name for this set of parameters</span>\n",
       "                        </div></th><th><div class=\"djtooltip\">\n",
       "                            <p id=\"nonprimary\">encoding_interval</p>\n",
       "                            <span class=\"djtooltiptext\">descriptive name of this interval list</span>\n",
       "                        </div></th><th><div class=\"djtooltip\">\n",
       "                            <p id=\"nonprimary\">decoding_interval</p>\n",
       "                            <span class=\"djtooltiptext\">descriptive name of this interval list</span>\n",
       "                        </div></th><th><div class=\"djtooltip\">\n",
       "                            <p id=\"nonprimary\">estimate_decoding_params</p>\n",
       "                            <span class=\"djtooltiptext\">whether to estimate the decoding parameters</span>\n",
       "                        </div> </th> </tr> </thead>\n",
       "            <tbody> <tr> <td>562ce95d-cfef-f323-98d1-25b2979a4194</td>\n",
       "<td>j1620210710_.nwb</td>\n",
       "<td>test_group</td>\n",
       "<td>test_group</td>\n",
       "<td>j1620210710_contfrag_clusterless_1D</td>\n",
       "<td>06_r3 noPrePostTrialTimes</td>\n",
       "<td>06_r3 noPrePostTrialTimes</td>\n",
       "<td>1</td> </tr> </tbody>\n",
       "        </table>\n",
       "        \n",
       "        <p>Total: 1</p></div>\n",
       "        "
      ],
      "text/plain": [
       "*merge_id      nwb_file_name  waveform_featu position_group decoding_param encoding_inter decoding_inter estimate_decod\n",
       "+------------+ +------------+ +------------+ +------------+ +------------+ +------------+ +------------+ +------------+\n",
       "562ce95d-cfef- j1620210710_.n test_group     test_group     j1620210710_co 06_r3 noPrePos 06_r3 noPrePos 1             \n",
       " (Total: 1)"
      ]
     },
     "execution_count": 36,
     "metadata": {},
     "output_type": "execute_result"
    }
   ],
   "source": [
    "from spyglass.decoding import DecodingOutput\n",
    "\n",
    "DecodingOutput.ClusterlessDecodingV1 & {\"source\": \"ClusterlessDecodingV1\"}"
   ]
  },
  {
   "cell_type": "code",
   "execution_count": 37,
   "metadata": {},
   "outputs": [
    {
     "data": {
      "text/plain": [
       "UUID('562ce95d-cfef-f323-98d1-25b2979a4194')"
      ]
     },
     "execution_count": 37,
     "metadata": {},
     "output_type": "execute_result"
    }
   ],
   "source": [
    "decoding_merge_id = (\n",
    "    DecodingOutput.ClusterlessDecodingV1() & selection_key\n",
    ").fetch1(\"merge_id\")\n",
    "decoding_merge_id"
   ]
  },
  {
   "cell_type": "code",
   "execution_count": 39,
   "metadata": {},
   "outputs": [
    {
     "name": "stderr",
     "output_type": "stream",
     "text": [
      "[2024-02-08 13:55:41,244][WARNING]: Skipped checksum for file with hash: c1f07c91-22b5-11ca-96a3-69b15c940fca, and path: /stelmo/nwb/analysis/j1620210710/j1620210710_02c8ebb2-364c-4449-8ffc-b620dd299677.nc\n"
     ]
    },
    {
     "data": {
      "text/html": [
       "<div><svg style=\"position: absolute; width: 0; height: 0; overflow: hidden\">\n",
       "<defs>\n",
       "<symbol id=\"icon-database\" viewBox=\"0 0 32 32\">\n",
       "<path d=\"M16 0c-8.837 0-16 2.239-16 5v4c0 2.761 7.163 5 16 5s16-2.239 16-5v-4c0-2.761-7.163-5-16-5z\"></path>\n",
       "<path d=\"M16 17c-8.837 0-16-2.239-16-5v6c0 2.761 7.163 5 16 5s16-2.239 16-5v-6c0 2.761-7.163 5-16 5z\"></path>\n",
       "<path d=\"M16 26c-8.837 0-16-2.239-16-5v6c0 2.761 7.163 5 16 5s16-2.239 16-5v-6c0 2.761-7.163 5-16 5z\"></path>\n",
       "</symbol>\n",
       "<symbol id=\"icon-file-text2\" viewBox=\"0 0 32 32\">\n",
       "<path d=\"M28.681 7.159c-0.694-0.947-1.662-2.053-2.724-3.116s-2.169-2.030-3.116-2.724c-1.612-1.182-2.393-1.319-2.841-1.319h-15.5c-1.378 0-2.5 1.121-2.5 2.5v27c0 1.378 1.122 2.5 2.5 2.5h23c1.378 0 2.5-1.122 2.5-2.5v-19.5c0-0.448-0.137-1.23-1.319-2.841zM24.543 5.457c0.959 0.959 1.712 1.825 2.268 2.543h-4.811v-4.811c0.718 0.556 1.584 1.309 2.543 2.268zM28 29.5c0 0.271-0.229 0.5-0.5 0.5h-23c-0.271 0-0.5-0.229-0.5-0.5v-27c0-0.271 0.229-0.5 0.5-0.5 0 0 15.499-0 15.5 0v7c0 0.552 0.448 1 1 1h7v19.5z\"></path>\n",
       "<path d=\"M23 26h-14c-0.552 0-1-0.448-1-1s0.448-1 1-1h14c0.552 0 1 0.448 1 1s-0.448 1-1 1z\"></path>\n",
       "<path d=\"M23 22h-14c-0.552 0-1-0.448-1-1s0.448-1 1-1h14c0.552 0 1 0.448 1 1s-0.448 1-1 1z\"></path>\n",
       "<path d=\"M23 18h-14c-0.552 0-1-0.448-1-1s0.448-1 1-1h14c0.552 0 1 0.448 1 1s-0.448 1-1 1z\"></path>\n",
       "</symbol>\n",
       "</defs>\n",
       "</svg>\n",
       "<style>/* CSS stylesheet for displaying xarray objects in jupyterlab.\n",
       " *\n",
       " */\n",
       "\n",
       ":root {\n",
       "  --xr-font-color0: var(--jp-content-font-color0, rgba(0, 0, 0, 1));\n",
       "  --xr-font-color2: var(--jp-content-font-color2, rgba(0, 0, 0, 0.54));\n",
       "  --xr-font-color3: var(--jp-content-font-color3, rgba(0, 0, 0, 0.38));\n",
       "  --xr-border-color: var(--jp-border-color2, #e0e0e0);\n",
       "  --xr-disabled-color: var(--jp-layout-color3, #bdbdbd);\n",
       "  --xr-background-color: var(--jp-layout-color0, white);\n",
       "  --xr-background-color-row-even: var(--jp-layout-color1, white);\n",
       "  --xr-background-color-row-odd: var(--jp-layout-color2, #eeeeee);\n",
       "}\n",
       "\n",
       "html[theme=dark],\n",
       "body[data-theme=dark],\n",
       "body.vscode-dark {\n",
       "  --xr-font-color0: rgba(255, 255, 255, 1);\n",
       "  --xr-font-color2: rgba(255, 255, 255, 0.54);\n",
       "  --xr-font-color3: rgba(255, 255, 255, 0.38);\n",
       "  --xr-border-color: #1F1F1F;\n",
       "  --xr-disabled-color: #515151;\n",
       "  --xr-background-color: #111111;\n",
       "  --xr-background-color-row-even: #111111;\n",
       "  --xr-background-color-row-odd: #313131;\n",
       "}\n",
       "\n",
       ".xr-wrap {\n",
       "  display: block !important;\n",
       "  min-width: 300px;\n",
       "  max-width: 700px;\n",
       "}\n",
       "\n",
       ".xr-text-repr-fallback {\n",
       "  /* fallback to plain text repr when CSS is not injected (untrusted notebook) */\n",
       "  display: none;\n",
       "}\n",
       "\n",
       ".xr-header {\n",
       "  padding-top: 6px;\n",
       "  padding-bottom: 6px;\n",
       "  margin-bottom: 4px;\n",
       "  border-bottom: solid 1px var(--xr-border-color);\n",
       "}\n",
       "\n",
       ".xr-header > div,\n",
       ".xr-header > ul {\n",
       "  display: inline;\n",
       "  margin-top: 0;\n",
       "  margin-bottom: 0;\n",
       "}\n",
       "\n",
       ".xr-obj-type,\n",
       ".xr-array-name {\n",
       "  margin-left: 2px;\n",
       "  margin-right: 10px;\n",
       "}\n",
       "\n",
       ".xr-obj-type {\n",
       "  color: var(--xr-font-color2);\n",
       "}\n",
       "\n",
       ".xr-sections {\n",
       "  padding-left: 0 !important;\n",
       "  display: grid;\n",
       "  grid-template-columns: 150px auto auto 1fr 20px 20px;\n",
       "}\n",
       "\n",
       ".xr-section-item {\n",
       "  display: contents;\n",
       "}\n",
       "\n",
       ".xr-section-item input {\n",
       "  display: none;\n",
       "}\n",
       "\n",
       ".xr-section-item input + label {\n",
       "  color: var(--xr-disabled-color);\n",
       "}\n",
       "\n",
       ".xr-section-item input:enabled + label {\n",
       "  cursor: pointer;\n",
       "  color: var(--xr-font-color2);\n",
       "}\n",
       "\n",
       ".xr-section-item input:enabled + label:hover {\n",
       "  color: var(--xr-font-color0);\n",
       "}\n",
       "\n",
       ".xr-section-summary {\n",
       "  grid-column: 1;\n",
       "  color: var(--xr-font-color2);\n",
       "  font-weight: 500;\n",
       "}\n",
       "\n",
       ".xr-section-summary > span {\n",
       "  display: inline-block;\n",
       "  padding-left: 0.5em;\n",
       "}\n",
       "\n",
       ".xr-section-summary-in:disabled + label {\n",
       "  color: var(--xr-font-color2);\n",
       "}\n",
       "\n",
       ".xr-section-summary-in + label:before {\n",
       "  display: inline-block;\n",
       "  content: '►';\n",
       "  font-size: 11px;\n",
       "  width: 15px;\n",
       "  text-align: center;\n",
       "}\n",
       "\n",
       ".xr-section-summary-in:disabled + label:before {\n",
       "  color: var(--xr-disabled-color);\n",
       "}\n",
       "\n",
       ".xr-section-summary-in:checked + label:before {\n",
       "  content: '▼';\n",
       "}\n",
       "\n",
       ".xr-section-summary-in:checked + label > span {\n",
       "  display: none;\n",
       "}\n",
       "\n",
       ".xr-section-summary,\n",
       ".xr-section-inline-details {\n",
       "  padding-top: 4px;\n",
       "  padding-bottom: 4px;\n",
       "}\n",
       "\n",
       ".xr-section-inline-details {\n",
       "  grid-column: 2 / -1;\n",
       "}\n",
       "\n",
       ".xr-section-details {\n",
       "  display: none;\n",
       "  grid-column: 1 / -1;\n",
       "  margin-bottom: 5px;\n",
       "}\n",
       "\n",
       ".xr-section-summary-in:checked ~ .xr-section-details {\n",
       "  display: contents;\n",
       "}\n",
       "\n",
       ".xr-array-wrap {\n",
       "  grid-column: 1 / -1;\n",
       "  display: grid;\n",
       "  grid-template-columns: 20px auto;\n",
       "}\n",
       "\n",
       ".xr-array-wrap > label {\n",
       "  grid-column: 1;\n",
       "  vertical-align: top;\n",
       "}\n",
       "\n",
       ".xr-preview {\n",
       "  color: var(--xr-font-color3);\n",
       "}\n",
       "\n",
       ".xr-array-preview,\n",
       ".xr-array-data {\n",
       "  padding: 0 5px !important;\n",
       "  grid-column: 2;\n",
       "}\n",
       "\n",
       ".xr-array-data,\n",
       ".xr-array-in:checked ~ .xr-array-preview {\n",
       "  display: none;\n",
       "}\n",
       "\n",
       ".xr-array-in:checked ~ .xr-array-data,\n",
       ".xr-array-preview {\n",
       "  display: inline-block;\n",
       "}\n",
       "\n",
       ".xr-dim-list {\n",
       "  display: inline-block !important;\n",
       "  list-style: none;\n",
       "  padding: 0 !important;\n",
       "  margin: 0;\n",
       "}\n",
       "\n",
       ".xr-dim-list li {\n",
       "  display: inline-block;\n",
       "  padding: 0;\n",
       "  margin: 0;\n",
       "}\n",
       "\n",
       ".xr-dim-list:before {\n",
       "  content: '(';\n",
       "}\n",
       "\n",
       ".xr-dim-list:after {\n",
       "  content: ')';\n",
       "}\n",
       "\n",
       ".xr-dim-list li:not(:last-child):after {\n",
       "  content: ',';\n",
       "  padding-right: 5px;\n",
       "}\n",
       "\n",
       ".xr-has-index {\n",
       "  font-weight: bold;\n",
       "}\n",
       "\n",
       ".xr-var-list,\n",
       ".xr-var-item {\n",
       "  display: contents;\n",
       "}\n",
       "\n",
       ".xr-var-item > div,\n",
       ".xr-var-item label,\n",
       ".xr-var-item > .xr-var-name span {\n",
       "  background-color: var(--xr-background-color-row-even);\n",
       "  margin-bottom: 0;\n",
       "}\n",
       "\n",
       ".xr-var-item > .xr-var-name:hover span {\n",
       "  padding-right: 5px;\n",
       "}\n",
       "\n",
       ".xr-var-list > li:nth-child(odd) > div,\n",
       ".xr-var-list > li:nth-child(odd) > label,\n",
       ".xr-var-list > li:nth-child(odd) > .xr-var-name span {\n",
       "  background-color: var(--xr-background-color-row-odd);\n",
       "}\n",
       "\n",
       ".xr-var-name {\n",
       "  grid-column: 1;\n",
       "}\n",
       "\n",
       ".xr-var-dims {\n",
       "  grid-column: 2;\n",
       "}\n",
       "\n",
       ".xr-var-dtype {\n",
       "  grid-column: 3;\n",
       "  text-align: right;\n",
       "  color: var(--xr-font-color2);\n",
       "}\n",
       "\n",
       ".xr-var-preview {\n",
       "  grid-column: 4;\n",
       "}\n",
       "\n",
       ".xr-index-preview {\n",
       "  grid-column: 2 / 5;\n",
       "  color: var(--xr-font-color2);\n",
       "}\n",
       "\n",
       ".xr-var-name,\n",
       ".xr-var-dims,\n",
       ".xr-var-dtype,\n",
       ".xr-preview,\n",
       ".xr-attrs dt {\n",
       "  white-space: nowrap;\n",
       "  overflow: hidden;\n",
       "  text-overflow: ellipsis;\n",
       "  padding-right: 10px;\n",
       "}\n",
       "\n",
       ".xr-var-name:hover,\n",
       ".xr-var-dims:hover,\n",
       ".xr-var-dtype:hover,\n",
       ".xr-attrs dt:hover {\n",
       "  overflow: visible;\n",
       "  width: auto;\n",
       "  z-index: 1;\n",
       "}\n",
       "\n",
       ".xr-var-attrs,\n",
       ".xr-var-data,\n",
       ".xr-index-data {\n",
       "  display: none;\n",
       "  background-color: var(--xr-background-color) !important;\n",
       "  padding-bottom: 5px !important;\n",
       "}\n",
       "\n",
       ".xr-var-attrs-in:checked ~ .xr-var-attrs,\n",
       ".xr-var-data-in:checked ~ .xr-var-data,\n",
       ".xr-index-data-in:checked ~ .xr-index-data {\n",
       "  display: block;\n",
       "}\n",
       "\n",
       ".xr-var-data > table {\n",
       "  float: right;\n",
       "}\n",
       "\n",
       ".xr-var-name span,\n",
       ".xr-var-data,\n",
       ".xr-index-name div,\n",
       ".xr-index-data,\n",
       ".xr-attrs {\n",
       "  padding-left: 25px !important;\n",
       "}\n",
       "\n",
       ".xr-attrs,\n",
       ".xr-var-attrs,\n",
       ".xr-var-data,\n",
       ".xr-index-data {\n",
       "  grid-column: 1 / -1;\n",
       "}\n",
       "\n",
       "dl.xr-attrs {\n",
       "  padding: 0;\n",
       "  margin: 0;\n",
       "  display: grid;\n",
       "  grid-template-columns: 125px auto;\n",
       "}\n",
       "\n",
       ".xr-attrs dt,\n",
       ".xr-attrs dd {\n",
       "  padding: 0;\n",
       "  margin: 0;\n",
       "  float: left;\n",
       "  padding-right: 10px;\n",
       "  width: auto;\n",
       "}\n",
       "\n",
       ".xr-attrs dt {\n",
       "  font-weight: normal;\n",
       "  grid-column: 1;\n",
       "}\n",
       "\n",
       ".xr-attrs dt:hover span {\n",
       "  display: inline-block;\n",
       "  background: var(--xr-background-color);\n",
       "  padding-right: 10px;\n",
       "}\n",
       "\n",
       ".xr-attrs dd {\n",
       "  grid-column: 2;\n",
       "  white-space: pre-wrap;\n",
       "  word-break: break-all;\n",
       "}\n",
       "\n",
       ".xr-icon-database,\n",
       ".xr-icon-file-text2,\n",
       ".xr-no-icon {\n",
       "  display: inline-block;\n",
       "  vertical-align: middle;\n",
       "  width: 1em;\n",
       "  height: 1.5em !important;\n",
       "  stroke-width: 0;\n",
       "  stroke: currentColor;\n",
       "  fill: currentColor;\n",
       "}\n",
       "</style><pre class='xr-text-repr-fallback'>&lt;xarray.DataArray &#x27;acausal_posterior&#x27; (time: 645774, position: 256)&gt;\n",
       "array([[1.5081608e-02, 8.1288619e-03, 2.6869446e-03, ..., 3.9934879e-08,\n",
       "        3.4252192e-08, 3.0467323e-08],\n",
       "       [1.6225379e-02, 6.8752714e-03, 2.3538719e-03, ..., 7.2033066e-07,\n",
       "        7.0499777e-07, 6.9280605e-07],\n",
       "       [1.9603141e-02, 6.3230838e-03, 1.6325347e-03, ..., 7.6887261e-07,\n",
       "        7.7699173e-07, 7.8228470e-07],\n",
       "       ...,\n",
       "       [3.7713917e-06, 3.8558956e-06, 3.9532647e-06, ..., 3.8567655e-06,\n",
       "        3.7497348e-06, 3.4330642e-06],\n",
       "       [2.9705802e-06, 2.9894040e-06, 3.1459258e-06, ..., 1.6900225e-06,\n",
       "        1.5486914e-06, 1.1995833e-06],\n",
       "       [4.2631773e-06, 4.4217677e-06, 4.6608329e-06, ..., 7.1959685e-06,\n",
       "        7.1251761e-06, 6.8226291e-06]], dtype=float32)\n",
       "Coordinates:\n",
       "  * position  (position) float64 0.9997 2.999 4.998 6.998 ... 603.6 605.6 607.5\n",
       "  * time      (time) float64 1.626e+09 1.626e+09 ... 1.626e+09 1.626e+09</pre><div class='xr-wrap' style='display:none'><div class='xr-header'><div class='xr-obj-type'>xarray.DataArray</div><div class='xr-array-name'>'acausal_posterior'</div><ul class='xr-dim-list'><li><span class='xr-has-index'>time</span>: 645774</li><li><span class='xr-has-index'>position</span>: 256</li></ul></div><ul class='xr-sections'><li class='xr-section-item'><div class='xr-array-wrap'><input id='section-f3d3418f-5106-4403-813e-43bcd24ffcaa' class='xr-array-in' type='checkbox' checked><label for='section-f3d3418f-5106-4403-813e-43bcd24ffcaa' title='Show/hide data repr'><svg class='icon xr-icon-database'><use xlink:href='#icon-database'></use></svg></label><div class='xr-array-preview xr-preview'><span>0.01508 0.008129 0.002687 0.0005867 ... 7.196e-06 7.125e-06 6.823e-06</span></div><div class='xr-array-data'><pre>array([[1.5081608e-02, 8.1288619e-03, 2.6869446e-03, ..., 3.9934879e-08,\n",
       "        3.4252192e-08, 3.0467323e-08],\n",
       "       [1.6225379e-02, 6.8752714e-03, 2.3538719e-03, ..., 7.2033066e-07,\n",
       "        7.0499777e-07, 6.9280605e-07],\n",
       "       [1.9603141e-02, 6.3230838e-03, 1.6325347e-03, ..., 7.6887261e-07,\n",
       "        7.7699173e-07, 7.8228470e-07],\n",
       "       ...,\n",
       "       [3.7713917e-06, 3.8558956e-06, 3.9532647e-06, ..., 3.8567655e-06,\n",
       "        3.7497348e-06, 3.4330642e-06],\n",
       "       [2.9705802e-06, 2.9894040e-06, 3.1459258e-06, ..., 1.6900225e-06,\n",
       "        1.5486914e-06, 1.1995833e-06],\n",
       "       [4.2631773e-06, 4.4217677e-06, 4.6608329e-06, ..., 7.1959685e-06,\n",
       "        7.1251761e-06, 6.8226291e-06]], dtype=float32)</pre></div></div></li><li class='xr-section-item'><input id='section-937bd78c-1280-458e-b733-7c8c50038e07' class='xr-section-summary-in' type='checkbox'  checked><label for='section-937bd78c-1280-458e-b733-7c8c50038e07' class='xr-section-summary' >Coordinates: <span>(2)</span></label><div class='xr-section-inline-details'></div><div class='xr-section-details'><ul class='xr-var-list'><li class='xr-var-item'><div class='xr-var-name'><span class='xr-has-index'>position</span></div><div class='xr-var-dims'>(position)</div><div class='xr-var-dtype'>float64</div><div class='xr-var-preview xr-preview'>0.9997 2.999 4.998 ... 605.6 607.5</div><input id='attrs-d7c6b6d8-6167-493a-b2cd-c098b150d631' class='xr-var-attrs-in' type='checkbox' disabled><label for='attrs-d7c6b6d8-6167-493a-b2cd-c098b150d631' title='Show/Hide attributes'><svg class='icon xr-icon-file-text2'><use xlink:href='#icon-file-text2'></use></svg></label><input id='data-2d25e26e-f304-48af-ab30-a2db6a810ddc' class='xr-var-data-in' type='checkbox'><label for='data-2d25e26e-f304-48af-ab30-a2db6a810ddc' title='Show/Hide data repr'><svg class='icon xr-icon-database'><use xlink:href='#icon-database'></use></svg></label><div class='xr-var-attrs'><dl class='xr-attrs'></dl></div><div class='xr-var-data'><pre>array([  0.999654,   2.998962,   4.99827 , ..., 603.632983, 605.579188,\n",
       "       607.525392])</pre></div></li><li class='xr-var-item'><div class='xr-var-name'><span class='xr-has-index'>time</span></div><div class='xr-var-dims'>(time)</div><div class='xr-var-dtype'>float64</div><div class='xr-var-preview xr-preview'>1.626e+09 1.626e+09 ... 1.626e+09</div><input id='attrs-70d5df3e-3e0b-48f2-8b6f-22340688be98' class='xr-var-attrs-in' type='checkbox' disabled><label for='attrs-70d5df3e-3e0b-48f2-8b6f-22340688be98' title='Show/Hide attributes'><svg class='icon xr-icon-file-text2'><use xlink:href='#icon-file-text2'></use></svg></label><input id='data-bb6e5d19-499f-4591-9148-0c79d9e03ddf' class='xr-var-data-in' type='checkbox'><label for='data-bb6e5d19-499f-4591-9148-0c79d9e03ddf' title='Show/Hide data repr'><svg class='icon xr-icon-database'><use xlink:href='#icon-database'></use></svg></label><div class='xr-var-attrs'><dl class='xr-attrs'></dl></div><div class='xr-var-data'><pre>array([1.625943e+09, 1.625943e+09, 1.625943e+09, ..., 1.625944e+09,\n",
       "       1.625944e+09, 1.625944e+09])</pre></div></li></ul></div></li><li class='xr-section-item'><input id='section-1c1c91ca-8f9e-4ff4-94cd-c37fba8edab8' class='xr-section-summary-in' type='checkbox'  ><label for='section-1c1c91ca-8f9e-4ff4-94cd-c37fba8edab8' class='xr-section-summary' >Indexes: <span>(2)</span></label><div class='xr-section-inline-details'></div><div class='xr-section-details'><ul class='xr-var-list'><li class='xr-var-item'><div class='xr-index-name'><div>time</div></div><div class='xr-index-preview'>PandasIndex</div><div></div><input id='index-3d497581-7834-48f4-80aa-721a7a0299e3' class='xr-index-data-in' type='checkbox'/><label for='index-3d497581-7834-48f4-80aa-721a7a0299e3' title='Show/Hide index repr'><svg class='icon xr-icon-database'><use xlink:href='#icon-database'></use></svg></label><div class='xr-index-data'><pre>PandasIndex(Float64Index([ 1625943049.983267, 1625943049.9852672, 1625943049.9872673,\n",
       "               1625943049.989267, 1625943049.9912672,  1625943049.993267,\n",
       "              1625943049.9952672, 1625943049.9972672,  1625943049.999267,\n",
       "              1625943050.0012672,\n",
       "              ...\n",
       "              1625944341.5094247, 1625944341.5114245, 1625944341.5134246,\n",
       "              1625944341.5154245, 1625944341.5174246, 1625944341.5194247,\n",
       "              1625944341.5214245, 1625944341.5234246, 1625944341.5254245,\n",
       "              1625944341.5274246],\n",
       "             dtype=&#x27;float64&#x27;, name=&#x27;time&#x27;, length=645774))</pre></div></li><li class='xr-var-item'><div class='xr-index-name'><div>position</div></div><div class='xr-index-preview'>PandasIndex</div><div></div><input id='index-5310e2e4-eaa2-40fb-a1ec-03fc7f8d9f6e' class='xr-index-data-in' type='checkbox'/><label for='index-5310e2e4-eaa2-40fb-a1ec-03fc7f8d9f6e' title='Show/Hide index repr'><svg class='icon xr-icon-database'><use xlink:href='#icon-database'></use></svg></label><div class='xr-index-data'><pre>PandasIndex(Float64Index([0.9996540894745268, 2.9989622684235844,  4.998270447372658,\n",
       "               6.997578626321731,  8.996886805270787,  10.99619498421984,\n",
       "              12.995503163168895, 14.994811342117952,  16.99411952106701,\n",
       "              18.993427700016063,\n",
       "              ...\n",
       "                590.009552687279,  591.9557570408409,  593.9019613944027,\n",
       "               595.8481657479651,   597.794370101527,  599.7405744550888,\n",
       "               601.6867788086506,  603.6329831622124,  605.5791875157744,\n",
       "               607.5253918693362],\n",
       "             dtype=&#x27;float64&#x27;, name=&#x27;position&#x27;, length=256))</pre></div></li></ul></div></li><li class='xr-section-item'><input id='section-efa7fa70-0d3c-442a-8aeb-4739d144d216' class='xr-section-summary-in' type='checkbox' disabled ><label for='section-efa7fa70-0d3c-442a-8aeb-4739d144d216' class='xr-section-summary'  title='Expand/collapse section'>Attributes: <span>(0)</span></label><div class='xr-section-inline-details'></div><div class='xr-section-details'><dl class='xr-attrs'></dl></div></li></ul></div></div>"
      ],
      "text/plain": [
       "<xarray.DataArray 'acausal_posterior' (time: 645774, position: 256)>\n",
       "array([[1.5081608e-02, 8.1288619e-03, 2.6869446e-03, ..., 3.9934879e-08,\n",
       "        3.4252192e-08, 3.0467323e-08],\n",
       "       [1.6225379e-02, 6.8752714e-03, 2.3538719e-03, ..., 7.2033066e-07,\n",
       "        7.0499777e-07, 6.9280605e-07],\n",
       "       [1.9603141e-02, 6.3230838e-03, 1.6325347e-03, ..., 7.6887261e-07,\n",
       "        7.7699173e-07, 7.8228470e-07],\n",
       "       ...,\n",
       "       [3.7713917e-06, 3.8558956e-06, 3.9532647e-06, ..., 3.8567655e-06,\n",
       "        3.7497348e-06, 3.4330642e-06],\n",
       "       [2.9705802e-06, 2.9894040e-06, 3.1459258e-06, ..., 1.6900225e-06,\n",
       "        1.5486914e-06, 1.1995833e-06],\n",
       "       [4.2631773e-06, 4.4217677e-06, 4.6608329e-06, ..., 7.1959685e-06,\n",
       "        7.1251761e-06, 6.8226291e-06]], dtype=float32)\n",
       "Coordinates:\n",
       "  * position  (position) float64 0.9997 2.999 4.998 6.998 ... 603.6 605.6 607.5\n",
       "  * time      (time) float64 1.626e+09 1.626e+09 ... 1.626e+09 1.626e+09"
      ]
     },
     "execution_count": 39,
     "metadata": {},
     "output_type": "execute_result"
    }
   ],
   "source": [
    "results = (ClusterlessDecodingV1 & selection_key).fetch_results()\n",
    "posterior = results.acausal_posterior.unstack(\"state_bins\").sum(\"state\")\n",
    "posterior"
   ]
  },
  {
   "cell_type": "code",
   "execution_count": 40,
   "metadata": {},
   "outputs": [],
   "source": [
    "multiunit_rate = ClusterlessDecodingV1.get_firing_rate(\n",
    "    selection_key, results.time.values, multiunit=True\n",
    ").squeeze()"
   ]
  },
  {
   "cell_type": "code",
   "execution_count": 41,
   "metadata": {},
   "outputs": [],
   "source": [
    "linear_position_info = ClusterlessDecodingV1.fetch_linear_position_info(\n",
    "    selection_key\n",
    ")"
   ]
  },
  {
   "cell_type": "code",
   "execution_count": 42,
   "metadata": {},
   "outputs": [
    {
     "name": "stderr",
     "output_type": "stream",
     "text": [
      "[2024-02-08 13:57:47,301][WARNING]: Skipped checksum for file with hash: 394762c1-f049-c73f-e69c-9034a60610b3, and path: /stelmo/nwb/analysis/j1620210710/j1620210710_02c8ebb2-364c-4449-8ffc-b620dd299677.pkl\n"
     ]
    }
   ],
   "source": [
    "classifier = (ClusterlessDecodingV1 & selection_key).fetch_model()"
   ]
  },
  {
   "cell_type": "code",
   "execution_count": 43,
   "metadata": {},
   "outputs": [
    {
     "data": {
      "image/png": "[encoded data removed]",
      "text/plain": [
       "<Figure size 140.157x140.157 with 1 Axes>"
      ]
     },
     "metadata": {},
     "output_type": "display_data"
    }
   ],
   "source": [
    "import matplotlib.cm as cm\n",
    "\n",
    "reward_well_nodes = np.arange(6)\n",
    "edge_colors = np.array(cm.get_cmap(\"tab10\").colors)\n",
    "\n",
    "paper_plotting.plot_2D_track_graph(\n",
    "    track_graph=track_graph,\n",
    "    position_info=linear_position_info,\n",
    "    edge_order=track_graph_params[\"linear_edge_order\"],\n",
    "    reward_well_nodes=reward_well_nodes,\n",
    "    edge_colors=edge_colors,\n",
    "    position_names=(\"head_position_x\", \"head_position_y\"),\n",
    ")\n",
    "paper_plotting.save_figure(\"figure5_frank_track\")"
   ]
  },
  {
   "cell_type": "code",
   "execution_count": 44,
   "metadata": {},
   "outputs": [
    {
     "data": {
      "image/png": "[encoded data removed]",
      "text/plain": [
       "<Figure size 233.596x486.22 with 4 Axes>"
      ]
     },
     "metadata": {},
     "output_type": "display_data"
    }
   ],
   "source": [
    "time_slice_ind = slice(273_000, 277_000)\n",
    "\n",
    "paper_plotting.plot_decode(\n",
    "    time_slice_ind=time_slice_ind,\n",
    "    posterior=posterior,\n",
    "    results=results,\n",
    "    classifier=classifier,\n",
    "    linear_position_info=linear_position_info,\n",
    "    multiunit_rate=multiunit_rate,\n",
    "    track_graph=track_graph,\n",
    "    edge_spacing=track_graph_params[\"linear_edge_spacing\"],\n",
    "    edge_order=track_graph_params[\"linear_edge_order\"],\n",
    "    reward_well_nodes=reward_well_nodes,\n",
    "    edge_colors=edge_colors,\n",
    ")\n",
    "paper_plotting.save_figure(\"figure5_frank_decode\")"
   ]
  },
  {
   "cell_type": "code",
   "execution_count": 45,
   "metadata": {},
   "outputs": [
    {
     "data": {
      "text/plain": [
       "'https://figurl.org/f?v=gs://figurl/spikesortingview-10&d=sha1://74d41c37d558b1927e568aa0239a3186b91859bc&label=j1620210710_clusterless_decode&zone=franklab.default'"
      ]
     },
     "execution_count": 45,
     "metadata": {},
     "output_type": "execute_result"
    }
   ],
   "source": [
    "paper_plotting.create_1D_interactive_figurl(\n",
    "    linear_position_info,\n",
    "    posterior,\n",
    "    results,\n",
    "    multiunit_rate,\n",
    "    label=\"j1620210710_clusterless_decode\",\n",
    "    view_height=800,\n",
    "    speed_name=\"head_speed\",\n",
    ")"
   ]
  },
  {
   "cell_type": "code",
   "execution_count": null,
   "metadata": {},
   "outputs": [],
   "source": []
  }
 ],
 "metadata": {
  "kernelspec": {
   "display_name": "spyglass",
   "language": "python",
   "name": "python3"
  },
  "language_info": {
   "codemirror_mode": {
    "name": "ipython",
    "version": 3
   },
   "file_extension": ".py",
   "mimetype": "text/x-python",
   "name": "python",
   "nbconvert_exporter": "python",
   "pygments_lexer": "ipython3",
   "version": "3.9.15"
  }
 },
 "nbformat": 4,
 "nbformat_minor": 2
}
